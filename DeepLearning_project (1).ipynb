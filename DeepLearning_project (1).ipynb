{
  "nbformat": 4,
  "nbformat_minor": 0,
  "metadata": {
    "colab": {
      "provenance": [],
      "gpuType": "T4"
    },
    "kernelspec": {
      "name": "python3",
      "display_name": "Python 3"
    },
    "language_info": {
      "name": "python"
    },
    "accelerator": "GPU"
  },
  "cells": [
    {
      "cell_type": "code",
      "execution_count": null,
      "metadata": {
        "colab": {
          "base_uri": "https://localhost:8080/",
          "height": 91
        },
        "id": "Ew6_tVnJYKfz",
        "outputId": "94281a2c-1f21-4ece-a885-08d945c28e53"
      },
      "outputs": [
        {
          "output_type": "display_data",
          "data": {
            "text/plain": [
              "<IPython.core.display.HTML object>"
            ],
            "text/html": [
              "\n",
              "     <input type=\"file\" id=\"files-cdbde839-c06a-4fc3-bc11-b6e6cc1306ce\" name=\"files[]\" multiple disabled\n",
              "        style=\"border:none\" />\n",
              "     <output id=\"result-cdbde839-c06a-4fc3-bc11-b6e6cc1306ce\">\n",
              "      Upload widget is only available when the cell has been executed in the\n",
              "      current browser session. Please rerun this cell to enable.\n",
              "      </output>\n",
              "      <script>// Copyright 2017 Google LLC\n",
              "//\n",
              "// Licensed under the Apache License, Version 2.0 (the \"License\");\n",
              "// you may not use this file except in compliance with the License.\n",
              "// You may obtain a copy of the License at\n",
              "//\n",
              "//      http://www.apache.org/licenses/LICENSE-2.0\n",
              "//\n",
              "// Unless required by applicable law or agreed to in writing, software\n",
              "// distributed under the License is distributed on an \"AS IS\" BASIS,\n",
              "// WITHOUT WARRANTIES OR CONDITIONS OF ANY KIND, either express or implied.\n",
              "// See the License for the specific language governing permissions and\n",
              "// limitations under the License.\n",
              "\n",
              "/**\n",
              " * @fileoverview Helpers for google.colab Python module.\n",
              " */\n",
              "(function(scope) {\n",
              "function span(text, styleAttributes = {}) {\n",
              "  const element = document.createElement('span');\n",
              "  element.textContent = text;\n",
              "  for (const key of Object.keys(styleAttributes)) {\n",
              "    element.style[key] = styleAttributes[key];\n",
              "  }\n",
              "  return element;\n",
              "}\n",
              "\n",
              "// Max number of bytes which will be uploaded at a time.\n",
              "const MAX_PAYLOAD_SIZE = 100 * 1024;\n",
              "\n",
              "function _uploadFiles(inputId, outputId) {\n",
              "  const steps = uploadFilesStep(inputId, outputId);\n",
              "  const outputElement = document.getElementById(outputId);\n",
              "  // Cache steps on the outputElement to make it available for the next call\n",
              "  // to uploadFilesContinue from Python.\n",
              "  outputElement.steps = steps;\n",
              "\n",
              "  return _uploadFilesContinue(outputId);\n",
              "}\n",
              "\n",
              "// This is roughly an async generator (not supported in the browser yet),\n",
              "// where there are multiple asynchronous steps and the Python side is going\n",
              "// to poll for completion of each step.\n",
              "// This uses a Promise to block the python side on completion of each step,\n",
              "// then passes the result of the previous step as the input to the next step.\n",
              "function _uploadFilesContinue(outputId) {\n",
              "  const outputElement = document.getElementById(outputId);\n",
              "  const steps = outputElement.steps;\n",
              "\n",
              "  const next = steps.next(outputElement.lastPromiseValue);\n",
              "  return Promise.resolve(next.value.promise).then((value) => {\n",
              "    // Cache the last promise value to make it available to the next\n",
              "    // step of the generator.\n",
              "    outputElement.lastPromiseValue = value;\n",
              "    return next.value.response;\n",
              "  });\n",
              "}\n",
              "\n",
              "/**\n",
              " * Generator function which is called between each async step of the upload\n",
              " * process.\n",
              " * @param {string} inputId Element ID of the input file picker element.\n",
              " * @param {string} outputId Element ID of the output display.\n",
              " * @return {!Iterable<!Object>} Iterable of next steps.\n",
              " */\n",
              "function* uploadFilesStep(inputId, outputId) {\n",
              "  const inputElement = document.getElementById(inputId);\n",
              "  inputElement.disabled = false;\n",
              "\n",
              "  const outputElement = document.getElementById(outputId);\n",
              "  outputElement.innerHTML = '';\n",
              "\n",
              "  const pickedPromise = new Promise((resolve) => {\n",
              "    inputElement.addEventListener('change', (e) => {\n",
              "      resolve(e.target.files);\n",
              "    });\n",
              "  });\n",
              "\n",
              "  const cancel = document.createElement('button');\n",
              "  inputElement.parentElement.appendChild(cancel);\n",
              "  cancel.textContent = 'Cancel upload';\n",
              "  const cancelPromise = new Promise((resolve) => {\n",
              "    cancel.onclick = () => {\n",
              "      resolve(null);\n",
              "    };\n",
              "  });\n",
              "\n",
              "  // Wait for the user to pick the files.\n",
              "  const files = yield {\n",
              "    promise: Promise.race([pickedPromise, cancelPromise]),\n",
              "    response: {\n",
              "      action: 'starting',\n",
              "    }\n",
              "  };\n",
              "\n",
              "  cancel.remove();\n",
              "\n",
              "  // Disable the input element since further picks are not allowed.\n",
              "  inputElement.disabled = true;\n",
              "\n",
              "  if (!files) {\n",
              "    return {\n",
              "      response: {\n",
              "        action: 'complete',\n",
              "      }\n",
              "    };\n",
              "  }\n",
              "\n",
              "  for (const file of files) {\n",
              "    const li = document.createElement('li');\n",
              "    li.append(span(file.name, {fontWeight: 'bold'}));\n",
              "    li.append(span(\n",
              "        `(${file.type || 'n/a'}) - ${file.size} bytes, ` +\n",
              "        `last modified: ${\n",
              "            file.lastModifiedDate ? file.lastModifiedDate.toLocaleDateString() :\n",
              "                                    'n/a'} - `));\n",
              "    const percent = span('0% done');\n",
              "    li.appendChild(percent);\n",
              "\n",
              "    outputElement.appendChild(li);\n",
              "\n",
              "    const fileDataPromise = new Promise((resolve) => {\n",
              "      const reader = new FileReader();\n",
              "      reader.onload = (e) => {\n",
              "        resolve(e.target.result);\n",
              "      };\n",
              "      reader.readAsArrayBuffer(file);\n",
              "    });\n",
              "    // Wait for the data to be ready.\n",
              "    let fileData = yield {\n",
              "      promise: fileDataPromise,\n",
              "      response: {\n",
              "        action: 'continue',\n",
              "      }\n",
              "    };\n",
              "\n",
              "    // Use a chunked sending to avoid message size limits. See b/62115660.\n",
              "    let position = 0;\n",
              "    do {\n",
              "      const length = Math.min(fileData.byteLength - position, MAX_PAYLOAD_SIZE);\n",
              "      const chunk = new Uint8Array(fileData, position, length);\n",
              "      position += length;\n",
              "\n",
              "      const base64 = btoa(String.fromCharCode.apply(null, chunk));\n",
              "      yield {\n",
              "        response: {\n",
              "          action: 'append',\n",
              "          file: file.name,\n",
              "          data: base64,\n",
              "        },\n",
              "      };\n",
              "\n",
              "      let percentDone = fileData.byteLength === 0 ?\n",
              "          100 :\n",
              "          Math.round((position / fileData.byteLength) * 100);\n",
              "      percent.textContent = `${percentDone}% done`;\n",
              "\n",
              "    } while (position < fileData.byteLength);\n",
              "  }\n",
              "\n",
              "  // All done.\n",
              "  yield {\n",
              "    response: {\n",
              "      action: 'complete',\n",
              "    }\n",
              "  };\n",
              "}\n",
              "\n",
              "scope.google = scope.google || {};\n",
              "scope.google.colab = scope.google.colab || {};\n",
              "scope.google.colab._files = {\n",
              "  _uploadFiles,\n",
              "  _uploadFilesContinue,\n",
              "};\n",
              "})(self);\n",
              "</script> "
            ]
          },
          "metadata": {}
        },
        {
          "output_type": "stream",
          "name": "stdout",
          "text": [
            "Saving kaggle.json to kaggle (2).json\n"
          ]
        },
        {
          "output_type": "execute_result",
          "data": {
            "text/plain": [
              "{'kaggle (2).json': b'{\"username\":\"yitzhakgrinvald\",\"key\":\"e174162200b831fe822116cd99c868d4\"}'}"
            ]
          },
          "metadata": {},
          "execution_count": 53
        }
      ],
      "source": [
        "#! pip install -q kaggle\n",
        "from google.colab import files\n",
        "\n",
        "files.upload()  # Choose the kaggle.json file that you downloaded"
      ]
    },
    {
      "cell_type": "code",
      "execution_count": null,
      "metadata": {
        "id": "Kq0ThCXmXa0q"
      },
      "outputs": [],
      "source": [
        "import numpy as np\n",
        "import tensorflow as tf\n",
        "from tensorflow import keras\n",
        "from tensorflow.keras import layers\n",
        "\n",
        "import pandas as pd\n"
      ]
    },
    {
      "cell_type": "markdown",
      "metadata": {
        "id": "hZY1vPlYXa0r"
      },
      "source": [
        "Make directory named kaggle and copy kaggle.json file ther"
      ]
    },
    {
      "cell_type": "code",
      "execution_count": null,
      "metadata": {
        "id": "7pSy1GT2Xa0r",
        "colab": {
          "base_uri": "https://localhost:8080/"
        },
        "outputId": "81949d06-c45b-4a90-e9a5-5096d725ecd4"
      },
      "outputs": [
        {
          "output_type": "stream",
          "name": "stdout",
          "text": [
            "mkdir: cannot create directory ‘/root/.kaggle’: File exists\n"
          ]
        }
      ],
      "source": [
        "! mkdir ~/.kaggle\n",
        "! cp kaggle.json ~/.kaggle/"
      ]
    },
    {
      "cell_type": "markdown",
      "metadata": {
        "id": "myyT-EUjXa0r"
      },
      "source": [
        "Change the permissions of the file:"
      ]
    },
    {
      "cell_type": "code",
      "execution_count": null,
      "metadata": {
        "id": "plDnuxiqXa0s"
      },
      "outputs": [],
      "source": [
        "! chmod 600 ~/.kaggle/kaggle.json"
      ]
    },
    {
      "cell_type": "code",
      "execution_count": null,
      "metadata": {
        "id": "OnYDmq8HXa0s",
        "colab": {
          "base_uri": "https://localhost:8080/"
        },
        "outputId": "07f2de7f-8a5c-4b8f-b5ee-6d9503c45ecf"
      },
      "outputs": [
        {
          "output_type": "stream",
          "name": "stdout",
          "text": [
            "flowers-recognition.zip: Skipping, found more recently modified local copy (use --force to force download)\n"
          ]
        }
      ],
      "source": [
        "!kaggle datasets download -d alxmamaev/flowers-recognition"
      ]
    },
    {
      "cell_type": "code",
      "execution_count": null,
      "metadata": {
        "id": "CTkSIbcgXa0t"
      },
      "outputs": [],
      "source": [
        "!unzip -qq flowers-recognition.zip"
      ]
    },
    {
      "cell_type": "markdown",
      "source": [
        "# הכנת התיקיות לטובת פיצול לtrain, val, test"
      ],
      "metadata": {
        "id": "VQEYdFl9aG2m"
      }
    },
    {
      "cell_type": "code",
      "source": [
        "import os\n",
        "import glob\n",
        "\n",
        "# Define the source and target directories\n",
        "source_parent_directory = \"flowers\"\n",
        "target_parent_directory = \"flowers_new\"\n",
        "\n",
        "# Ensure the target directory exists\n",
        "os.makedirs(target_parent_directory, exist_ok=True)\n",
        "\n",
        "# Iterate over the flower categories\n",
        "flower_categories = ['daisy', 'dandelion', 'rose', 'sunflower', 'tulip']\n",
        "\n",
        "for category in flower_categories:\n",
        "    source_directory = os.path.join(source_parent_directory, category)\n",
        "    target_directory = os.path.join(target_parent_directory, category)\n",
        "\n",
        "    # Ensure the target directory for the current category exists\n",
        "    os.makedirs(target_directory, exist_ok=True)\n",
        "\n",
        "    # Initialize a counter for the new numeric names\n",
        "    new_name_counter = 0\n",
        "\n",
        "    # Iterate over image files in the source directory (assuming they are in .jpg format)\n",
        "    for image_file in glob.glob(os.path.join(source_directory, \"*.jpg\")):\n",
        "        # Generate the new filename with the desired format (e.g., \"0.jpg\", \"1.jpg\", ...)\n",
        "        new_filename = f\"{new_name_counter}.jpg\"\n",
        "\n",
        "        # Create the new file's full path in the target directory\n",
        "        target_filepath = os.path.join(target_directory, new_filename)\n",
        "\n",
        "        # Rename and move the file\n",
        "        os.rename(image_file, target_filepath)\n",
        "\n",
        "        # Increment the counter for the next file\n",
        "        new_name_counter += 1\n",
        "\n"
      ],
      "metadata": {
        "id": "qYAysJSFQxeE"
      },
      "execution_count": null,
      "outputs": []
    },
    {
      "cell_type": "markdown",
      "source": [
        "פיצול הדאטה ל train, val, test"
      ],
      "metadata": {
        "id": "YXRPWLIAScxt"
      }
    },
    {
      "cell_type": "code",
      "source": [
        "import shutil\n",
        "import pathlib\n",
        "\n",
        "original_dir = pathlib.Path(\"flowers_new\")\n",
        "new_base_dir = pathlib.Path(\"flowers_new_split\")\n",
        "\n",
        "def make_subset(subset_name, start_index, end_index):\n",
        "    for category in (\"daisy\", \"dandelion\", \"rose\",\"sunflower\",  \"tulip\"):\n",
        "        dir = new_base_dir / subset_name / category\n",
        "        os.makedirs(dir, exist_ok=True)  # Create directories if they don't exist\n",
        "        fnames = [f\"{i}.jpg\" for i in range(start_index, end_index)]\n",
        "        for fname in fnames:\n",
        "            # Adjust the source and destination paths to match your directory structure\n",
        "            src_path = original_dir / category / fname\n",
        "            dst_path = dir / fname\n",
        "            shutil.copyfile(src=src_path, dst=dst_path)\n",
        "\n",
        "make_subset(\"train\", start_index=0, end_index=590)\n",
        "make_subset(\"validation\", start_index=590, end_index=660)\n",
        "make_subset(\"test\", start_index=660, end_index=730)\n"
      ],
      "metadata": {
        "id": "_rSaT06sr2Jq"
      },
      "execution_count": null,
      "outputs": []
    },
    {
      "cell_type": "code",
      "source": [
        "\n",
        "# Define the number of classes (5 in your case)\n",
        "num_classes = 5\n",
        "\n",
        "# Input layer\n",
        "inputs = keras.Input(shape=(180, 180, 3))\n",
        "\n",
        "# Data preprocessing layer (you can keep this as it is)\n",
        "x = layers.Rescaling(1./255)(inputs)\n",
        "\n",
        "# Convolutional layers with max pooling\n",
        "x = layers.Conv2D(filters=32, kernel_size=3, activation=\"relu\")(x)\n",
        "x = layers.MaxPooling2D(pool_size=2)(x)\n",
        "x = layers.Conv2D(filters=64, kernel_size=3, activation=\"relu\")(x)\n",
        "x = layers.MaxPooling2D(pool_size=2)(x)\n",
        "x = layers.Conv2D(filters=128, kernel_size=3, activation=\"relu\")(x)\n",
        "x = layers.MaxPooling2D(pool_size=2)(x)\n",
        "x = layers.Conv2D(filters=256, kernel_size=3, activation=\"relu\")(x)\n",
        "x = layers.MaxPooling2D(pool_size=2)(x)\n",
        "x = layers.Conv2D(filters=256, kernel_size=3, activation=\"relu\")(x)\n",
        "\n",
        "# Flatten the output of the convolutional layers\n",
        "x = layers.Flatten()(x)\n",
        "\n",
        "# Output layer for multi-class classification (5 output units)\n",
        "outputs = layers.Dense(num_classes, activation=\"softmax\")(x)\n",
        "\n",
        "# Define the model\n",
        "model = keras.Model(inputs=inputs, outputs=outputs)\n"
      ],
      "metadata": {
        "id": "wW6eOUWfwq9t"
      },
      "execution_count": null,
      "outputs": []
    },
    {
      "cell_type": "markdown",
      "source": [
        "# New Section"
      ],
      "metadata": {
        "id": "S9rqJO_xaIE6"
      }
    },
    {
      "cell_type": "code",
      "execution_count": null,
      "metadata": {
        "id": "o6xfvqXVXa0u"
      },
      "outputs": [],
      "source": [
        "model.compile(loss=\"categorical_crossentropy\",\n",
        "              optimizer=\"rmsprop\",\n",
        "              metrics=[\"accuracy\"])"
      ]
    },
    {
      "cell_type": "code",
      "execution_count": null,
      "metadata": {
        "id": "1r8bNSnIXa0u",
        "outputId": "be803480-ad23-4787-85eb-4f304564ceb8",
        "colab": {
          "base_uri": "https://localhost:8080/"
        }
      },
      "outputs": [
        {
          "output_type": "stream",
          "name": "stdout",
          "text": [
            "Found 2950 files belonging to 5 classes.\n",
            "Found 350 files belonging to 5 classes.\n",
            "Found 350 files belonging to 5 classes.\n"
          ]
        }
      ],
      "source": [
        "from tensorflow.keras.utils import image_dataset_from_directory\n",
        "\n",
        "train_dataset = image_dataset_from_directory(\n",
        "    new_base_dir / \"train\",\n",
        "    image_size=(180, 180),\n",
        "    batch_size=32)\n",
        "validation_dataset = image_dataset_from_directory(\n",
        "    new_base_dir / \"validation\",\n",
        "    image_size=(180, 180),\n",
        "    batch_size=32)\n",
        "test_dataset = image_dataset_from_directory(\n",
        "    new_base_dir / \"test\",\n",
        "    image_size=(180, 180),\n",
        "    batch_size=32)\n"
      ]
    },
    {
      "cell_type": "code",
      "source": [
        "import tensorflow as tf\n",
        "from tensorflow import keras\n",
        "\n",
        "# Assuming you have your model defined as shown in your initial code\n",
        "\n",
        "# Define the number of classes\n",
        "num_classes = 5\n",
        "\n",
        "# Update the model's output layer for multi-class classification\n",
        "model.compile(\n",
        "    optimizer=\"rmsprop\",\n",
        "    loss=\"sparse_categorical_crossentropy\",  # Use categorical crossentropy for multi-class\n",
        "    metrics=[\"accuracy\"]\n",
        ")\n",
        "\n",
        "# Define callbacks (no need to change this part)\n",
        "callbacks = [\n",
        "    keras.callbacks.ModelCheckpoint(\n",
        "        filepath=\"Flower_identification.keras\",\n",
        "        save_best_only=True,\n",
        "        monitor=\"val_loss\"\n",
        "    )\n",
        "]\n",
        "\n",
        "# Assuming you have your train_dataset and validation_dataset ready\n",
        "history = model.fit(\n",
        "    train_dataset,\n",
        "    epochs=10,\n",
        "    validation_data=validation_dataset,\n",
        "    callbacks=callbacks\n",
        ")\n"
      ],
      "metadata": {
        "colab": {
          "base_uri": "https://localhost:8080/"
        },
        "id": "7CVJapgexklY",
        "outputId": "ef7358e2-076c-4fef-a7c7-b0c9049f7f0c"
      },
      "execution_count": null,
      "outputs": [
        {
          "output_type": "stream",
          "name": "stdout",
          "text": [
            "Epoch 1/10\n",
            "93/93 [==============================] - 10s 87ms/step - loss: 1.5161 - accuracy: 0.3468 - val_loss: 2.4224 - val_accuracy: 0.2543\n",
            "Epoch 2/10\n",
            "93/93 [==============================] - 6s 58ms/step - loss: 1.2113 - accuracy: 0.5088 - val_loss: 1.2110 - val_accuracy: 0.5086\n",
            "Epoch 3/10\n",
            "93/93 [==============================] - 8s 77ms/step - loss: 1.0707 - accuracy: 0.5664 - val_loss: 1.0894 - val_accuracy: 0.6057\n",
            "Epoch 4/10\n",
            "93/93 [==============================] - 6s 59ms/step - loss: 0.9776 - accuracy: 0.6159 - val_loss: 0.9091 - val_accuracy: 0.6629\n",
            "Epoch 5/10\n",
            "93/93 [==============================] - 7s 76ms/step - loss: 0.9035 - accuracy: 0.6576 - val_loss: 3.2415 - val_accuracy: 0.3371\n",
            "Epoch 6/10\n",
            "93/93 [==============================] - 6s 58ms/step - loss: 0.8496 - accuracy: 0.6902 - val_loss: 1.0626 - val_accuracy: 0.6314\n",
            "Epoch 7/10\n",
            "93/93 [==============================] - 6s 59ms/step - loss: 0.7722 - accuracy: 0.7142 - val_loss: 0.9671 - val_accuracy: 0.6257\n",
            "Epoch 8/10\n",
            "93/93 [==============================] - 8s 78ms/step - loss: 0.6971 - accuracy: 0.7471 - val_loss: 1.1534 - val_accuracy: 0.6200\n",
            "Epoch 9/10\n",
            "93/93 [==============================] - 7s 70ms/step - loss: 0.6274 - accuracy: 0.7671 - val_loss: 1.1255 - val_accuracy: 0.6400\n",
            "Epoch 10/10\n",
            "28/93 [========>.....................] - ETA: 4s - loss: 0.5263 - accuracy: 0.8036"
          ]
        }
      ]
    },
    {
      "cell_type": "code",
      "execution_count": null,
      "metadata": {
        "id": "6ufypsyfXa0w"
      },
      "outputs": [],
      "source": [
        "import matplotlib.pyplot as plt\n",
        "accuracy = history.history[\"accuracy\"]\n",
        "val_accuracy = history.history[\"val_accuracy\"]\n",
        "loss = history.history[\"loss\"]\n",
        "val_loss = history.history[\"val_loss\"]\n",
        "epochs = range(1, len(accuracy) + 1)\n",
        "plt.plot(epochs, accuracy, \"bo\", label=\"Training accuracy\")\n",
        "plt.plot(epochs, val_accuracy, \"b\", label=\"Validation accuracy\")\n",
        "plt.title(\"Training and validation accuracy\")\n",
        "plt.legend()\n",
        "plt.figure()\n",
        "plt.plot(epochs, loss, \"bo\", label=\"Training loss\")\n",
        "plt.plot(epochs, val_loss, \"b\", label=\"Validation loss\")\n",
        "plt.title(\"Training and validation loss\")\n",
        "plt.legend()\n",
        "plt.show()"
      ]
    },
    {
      "cell_type": "markdown",
      "metadata": {
        "id": "JqqavZF2Xa0w"
      },
      "source": [
        "**Evaluating the model on the test set**"
      ]
    },
    {
      "cell_type": "code",
      "execution_count": null,
      "metadata": {
        "id": "6WS7Thj7Xa0w"
      },
      "outputs": [],
      "source": [
        "test_model = keras.models.load_model(\"Flower_identification.keras\")\n",
        "test_loss, test_acc = test_model.evaluate(test_dataset)\n",
        "basic_model= \"Test accuracy: \"+str(test_acc)\n",
        "print(f\"Test accuracy: {test_acc:.3f}\")"
      ]
    },
    {
      "cell_type": "markdown",
      "metadata": {
        "id": "fcwfqnuoXa0w"
      },
      "source": [
        "# Using data augmentation"
      ]
    },
    {
      "cell_type": "markdown",
      "metadata": {
        "id": "IxprijleXa0w"
      },
      "source": [
        "### Define a data augmentation stage to add to an image model"
      ]
    },
    {
      "cell_type": "code",
      "execution_count": null,
      "metadata": {
        "id": "UK_rQBTuXa0x"
      },
      "outputs": [],
      "source": [
        "data_augmentation = keras.Sequential(\n",
        "    [\n",
        "        layers.RandomFlip(\"horizontal\"),\n",
        "        layers.RandomRotation(0.1),\n",
        "        layers.RandomZoom(0.2),\n",
        "    ]\n",
        ")"
      ]
    },
    {
      "cell_type": "markdown",
      "metadata": {
        "id": "h_WQ8kskXa0x"
      },
      "source": [
        "**Displaying some randomly augmented training images**"
      ]
    },
    {
      "cell_type": "code",
      "execution_count": null,
      "metadata": {
        "id": "v3T6in66Xa0x"
      },
      "outputs": [],
      "source": [
        "plt.figure(figsize=(10, 10))\n",
        "for images, _ in train_dataset.take(1):\n",
        "    for i in range(9):\n",
        "        augmented_images = data_augmentation(images)\n",
        "        ax = plt.subplot(3, 3, i + 1)\n",
        "        plt.imshow(augmented_images[0].numpy().astype(\"uint8\"))\n",
        "        plt.axis(\"off\")"
      ]
    },
    {
      "cell_type": "markdown",
      "metadata": {
        "id": "bZafZIk3Xa0x"
      },
      "source": [
        "**Defining a new convnet that includes image augmentation and dropout**"
      ]
    },
    {
      "cell_type": "code",
      "execution_count": null,
      "metadata": {
        "id": "FLi2E7j0Xa0x"
      },
      "outputs": [],
      "source": [
        "num_classes = 5\n",
        "\n",
        "inputs = keras.Input(shape=(180, 180, 3))\n",
        "x = data_augmentation(inputs)\n",
        "x = layers.Rescaling(1./255)(x)\n",
        "x = layers.Conv2D(filters=32, kernel_size=3, activation=\"relu\")(x)\n",
        "x = layers.MaxPooling2D(pool_size=2)(x)\n",
        "x = layers.Conv2D(filters=64, kernel_size=3, activation=\"relu\")(x)\n",
        "x = layers.MaxPooling2D(pool_size=2)(x)\n",
        "x = layers.Conv2D(filters=128, kernel_size=3, activation=\"relu\")(x)\n",
        "x = layers.MaxPooling2D(pool_size=2)(x)\n",
        "x = layers.Conv2D(filters=256, kernel_size=3, activation=\"relu\")(x)\n",
        "x = layers.MaxPooling2D(pool_size=2)(x)\n",
        "x = layers.Conv2D(filters=256, kernel_size=3, activation=\"relu\")(x)\n",
        "x = layers.Flatten()(x)\n",
        "x = layers.Dropout(0.5)(x)\n",
        "outputs = layers.Dense(num_classes, activation=\"softmax\")(x)\n",
        "model = keras.Model(inputs=inputs, outputs=outputs)\n",
        "\n",
        "model.compile(loss=\"sparse_categorical_crossentropy\",\n",
        "              optimizer=\"rmsprop\",\n",
        "              metrics=[\"accuracy\"])\n",
        "\n",
        "\n",
        "callbacks = [\n",
        "    keras.callbacks.ModelCheckpoint(\n",
        "        filepath=\"Flower_identification_with_augmentation.keras\",\n",
        "        save_best_only=True,\n",
        "        monitor=\"val_loss\")\n",
        "]\n",
        "history = model.fit(\n",
        "    train_dataset,\n",
        "    epochs=14,\n",
        "    validation_data=validation_dataset,\n",
        "    callbacks=callbacks)\n"
      ]
    },
    {
      "cell_type": "markdown",
      "metadata": {
        "id": "yHwequJeXa0x"
      },
      "source": [
        "**Training the regularized networks**"
      ]
    },
    {
      "cell_type": "code",
      "source": [
        "import matplotlib.pyplot as plt\n",
        "accuracy = history.history[\"accuracy\"]\n",
        "val_accuracy = history.history[\"val_accuracy\"]\n",
        "loss = history.history[\"loss\"]\n",
        "val_loss = history.history[\"val_loss\"]\n",
        "epochs = range(1, len(accuracy) + 1)\n",
        "plt.plot(epochs, accuracy, \"bo\", label=\"Training accuracy\")\n",
        "plt.plot(epochs, val_accuracy, \"b\", label=\"Validation accuracy\")\n",
        "plt.title(\"Training and validation accuracy\")\n",
        "plt.legend()\n",
        "plt.figure()\n",
        "plt.plot(epochs, loss, \"bo\", label=\"Training loss\")\n",
        "plt.plot(epochs, val_loss, \"b\", label=\"Validation loss\")\n",
        "plt.title(\"Training and validation loss\")\n",
        "plt.legend()\n",
        "plt.show()"
      ],
      "metadata": {
        "id": "VGzMNZeVly7w"
      },
      "execution_count": null,
      "outputs": []
    },
    {
      "cell_type": "markdown",
      "metadata": {
        "id": "OaYeF3Z8Xa0y"
      },
      "source": [
        "**evaluating the the new model**"
      ]
    },
    {
      "cell_type": "code",
      "execution_count": null,
      "metadata": {
        "id": "5dXworJFXa0y"
      },
      "outputs": [],
      "source": [
        "test_model = keras.models.load_model(\n",
        "    \"Flower_identification_with_augmentation.keras\")\n",
        "test_loss, test_acc = test_model.evaluate(test_dataset)\n",
        "augm_model= \"Test accuracy: \"+str(test_acc)\n",
        "print(f\"Test accuracy: {test_acc:.3f}\")\n"
      ]
    },
    {
      "cell_type": "markdown",
      "metadata": {
        "id": "TFi85ID-Xa0y"
      },
      "source": [
        "# Leveraging a pretrained model"
      ]
    },
    {
      "cell_type": "markdown",
      "metadata": {
        "id": "yXHnnT43Xa0y"
      },
      "source": [
        "**Feature extraction with a pretrained model**\n",
        "\n",
        "Instantiating the VGG16 convolutional base"
      ]
    },
    {
      "cell_type": "code",
      "source": [
        "from tensorflow.keras.applications import VGG16\n",
        "from tensorflow.keras.models import Sequential\n",
        "from tensorflow.keras.layers import Dense, Flatten\n",
        "from tensorflow.keras.optimizers import RMSprop\n"
      ],
      "metadata": {
        "id": "xsIFFUervw9e"
      },
      "execution_count": null,
      "outputs": []
    },
    {
      "cell_type": "code",
      "source": [
        "base_model = VGG16(weights='imagenet', include_top=False, input_shape=(180, 180, 3))\n",
        "model = Sequential()\n",
        "model.add(base_model)\n",
        "model.add(Flatten())\n",
        "model.add(Dense(256, activation='relu'))\n",
        "model.add(Dense(5, activation='softmax'))  # Adjust the output layer units according to your number of flower classes (5 in this case)\n",
        "model.compile(optimizer=RMSprop(learning_rate=0.0001), loss='sparse_categorical_crossentropy', metrics=['accuracy'])\n",
        "\n",
        "\n",
        "history = model.fit(train_dataset, epochs=14, validation_data=validation_dataset, callbacks=callbacks)\n"
      ],
      "metadata": {
        "id": "aWhyCHxvv6g1",
        "outputId": "2b85a4c2-6d9b-46a2-f90a-457d4d2bc13d",
        "colab": {
          "base_uri": "https://localhost:8080/"
        }
      },
      "execution_count": null,
      "outputs": [
        {
          "metadata": {
            "tags": null
          },
          "name": "stdout",
          "output_type": "stream",
          "text": [
            "Downloading data from https://storage.googleapis.com/tensorflow/keras-applications/vgg16/vgg16_weights_tf_dim_ordering_tf_kernels_notop.h5\n",
            "58889256/58889256 [==============================] - 0s 0us/step\n",
            "Epoch 1/14\n",
            "135/135 [==============================] - 69s 424ms/step - loss: 1.7466 - accuracy: 0.3113 - val_loss: 1.2548 - val_accuracy: 0.4719\n",
            "Epoch 2/14\n",
            "135/135 [==============================] - 50s 371ms/step - loss: 1.0459 - accuracy: 0.5979 - val_loss: 0.7618 - val_accuracy: 0.7142\n",
            "Epoch 3/14\n",
            "135/135 [==============================] - 50s 368ms/step - loss: 0.7696 - accuracy: 0.7148 - val_loss: 1.6897 - val_accuracy: 0.5133\n",
            "Epoch 4/14\n",
            "135/135 [==============================] - 50s 370ms/step - loss: 0.6381 - accuracy: 0.7855 - val_loss: 0.4226 - val_accuracy: 0.8522\n",
            "Epoch 5/14\n",
            "135/135 [==============================] - 50s 370ms/step - loss: 0.5866 - accuracy: 0.7975 - val_loss: 0.2870 - val_accuracy: 0.8965\n",
            "Epoch 6/14\n",
            "135/135 [==============================] - 50s 367ms/step - loss: 0.4922 - accuracy: 0.8379 - val_loss: 0.3157 - val_accuracy: 0.8918\n",
            "Epoch 7/14\n",
            "135/135 [==============================] - 50s 370ms/step - loss: 0.4371 - accuracy: 0.8573 - val_loss: 0.2025 - val_accuracy: 0.9331\n",
            "Epoch 8/14\n",
            "135/135 [==============================] - 51s 372ms/step - loss: 0.3782 - accuracy: 0.8800 - val_loss: 0.1945 - val_accuracy: 0.9379\n",
            "Epoch 9/14\n",
            "135/135 [==============================] - 50s 366ms/step - loss: 0.4412 - accuracy: 0.8740 - val_loss: 0.3347 - val_accuracy: 0.8821\n",
            "Epoch 10/14\n",
            "135/135 [==============================] - 50s 368ms/step - loss: 0.3347 - accuracy: 0.8939 - val_loss: 0.2771 - val_accuracy: 0.9236\n"
          ]
        }
      ]
    },
    {
      "cell_type": "code",
      "source": [
        "# Assuming you have your test_dataset ready\n",
        "test_accuracy = model.evaluate(test_dataset)\n",
        "VGG16_model= \"Test accuracy: \"+str(test_acc)\n",
        "print(\"Test accuracy:\", test_accuracy[1])  # Index 1 corresponds to accuracy\n"
      ],
      "metadata": {
        "id": "EbeFhdyC3xhO"
      },
      "execution_count": null,
      "outputs": []
    },
    {
      "cell_type": "markdown",
      "source": [
        "improve the model by add dropout and regularization"
      ],
      "metadata": {
        "id": "7E59ADK_59Ec"
      }
    },
    {
      "cell_type": "code",
      "source": [
        "from tensorflow.keras.regularizers import l2\n",
        "\n",
        "# Define the number of classes (5 in your case)\n",
        "num_classes = 5\n",
        "\n",
        "# Input layer\n",
        "inputs = keras.Input(shape=(180, 180, 3))\n",
        "x = data_augmentation(inputs)\n",
        "# Data preprocessing layer (you can keep this as it is)\n",
        "x = layers.Rescaling(1./255)(inputs)\n",
        "\n",
        "# Convolutional layers with max pooling\n",
        "x = layers.Conv2D(filters=32, kernel_size=3, activation=\"relu\")(x)\n",
        "x = layers.MaxPooling2D(pool_size=2)(x)\n",
        "x = layers.Conv2D(filters=64, kernel_size=3, activation=\"relu\")(x)\n",
        "x = layers.MaxPooling2D(pool_size=2)(x)\n",
        "x = layers.Conv2D(filters=128, kernel_size=3, activation=\"relu\")(x)\n",
        "x = layers.MaxPooling2D(pool_size=2)(x)\n",
        "x = layers.Conv2D(filters=256, kernel_size=3, activation=\"relu\")(x)\n",
        "x = layers.MaxPooling2D(pool_size=2)(x)\n",
        "x = layers.Conv2D(filters=256, kernel_size=3, activation=\"relu\")(x)\n",
        "\n",
        "# Add Dropout Layers\n",
        "x = layers.Dropout(0.5)(x)\n",
        "\n",
        "# Flatten the output of the convolutional layers\n",
        "x = layers.Flatten()(x)\n",
        "\n",
        "# Add L2 Regularization to Dense Layers\n",
        "x = layers.Dense(256, activation='relu', kernel_regularizer=l2(0.01))(x)\n",
        "x = layers.Dense(128, activation='relu', kernel_regularizer=l2(0.01))(x)\n",
        "\n",
        "# Output layer for multi-class classification (5 output units)\n",
        "outputs = layers.Dense(num_classes, activation=\"softmax\")(x)\n",
        "\n",
        "# Define the model\n",
        "model = keras.Model(inputs=inputs, outputs=outputs)\n",
        "model.compile(loss=\"sparse_categorical_crossentropy\",\n",
        "              optimizer=\"rmsprop\",\n",
        "              metrics=[\"accuracy\"])\n",
        "\n",
        "\n",
        "callbacks = [\n",
        "    keras.callbacks.ModelCheckpoint(\n",
        "        filepath=\"Flower_identification_with_augmentation_dropout.keras\",\n",
        "        save_best_only=True,\n",
        "        monitor=\"val_loss\")\n",
        "]\n",
        "history = model.fit(\n",
        "    train_dataset,\n",
        "    epochs=50,\n",
        "    validation_data=validation_dataset,\n",
        "    callbacks=callbacks)\n",
        "\n"
      ],
      "metadata": {
        "id": "xEs8pTl75wNy"
      },
      "execution_count": null,
      "outputs": []
    },
    {
      "cell_type": "code",
      "source": [
        "import matplotlib.pyplot as plt\n",
        "accuracy = history.history[\"accuracy\"]\n",
        "val_accuracy = history.history[\"val_accuracy\"]\n",
        "loss = history.history[\"loss\"]\n",
        "val_loss = history.history[\"val_loss\"]\n",
        "epochs = range(1, len(accuracy) + 1)\n",
        "plt.plot(epochs, accuracy, \"bo\", label=\"Training accuracy\")\n",
        "plt.plot(epochs, val_accuracy, \"b\", label=\"Validation accuracy\")\n",
        "plt.title(\"Training and validation accuracy\")\n",
        "plt.legend()\n",
        "plt.figure()\n",
        "plt.plot(epochs, loss, \"bo\", label=\"Training loss\")\n",
        "plt.plot(epochs, val_loss, \"b\", label=\"Validation loss\")\n",
        "plt.title(\"Training and validation loss\")\n",
        "plt.legend()\n",
        "plt.show()"
      ],
      "metadata": {
        "id": "QBBdpFAF6avy"
      },
      "execution_count": null,
      "outputs": []
    },
    {
      "cell_type": "markdown",
      "metadata": {
        "id": "GDoPoWK66avz"
      },
      "source": [
        "**evaluating the the new model**"
      ]
    },
    {
      "cell_type": "code",
      "execution_count": null,
      "metadata": {
        "id": "Ov4NTA4t6avz"
      },
      "outputs": [],
      "source": [
        "test_model = keras.models.load_model(\n",
        "    \"Flower_identification_with_augmentation.keras\")\n",
        "test_loss, test_acc = test_model.evaluate(test_dataset)\n",
        "dropout_model= \"Test accuracy: \"+str(test_acc)\n",
        "print(f\"Test accuracy: {test_acc:.3f}\")\n"
      ]
    },
    {
      "cell_type": "code",
      "source": [
        "# from tensorflow.keras.preprocessing.image import ImageDataGenerator\n",
        "\n",
        "# # Data augmentation\n",
        "# datagen = ImageDataGenerator(\n",
        "#     rotation_range=20,\n",
        "#     width_shift_range=0.2,\n",
        "#     height_shift_range=0.2,\n",
        "#     shear_range=0.2,\n",
        "#     zoom_range=0.2,\n",
        "#     horizontal_flip=True,\n",
        "#     fill_mode='nearest'\n",
        "# )\n",
        "\n",
        "# # Model architecture\n",
        "# model = keras.Sequential([\n",
        "#     keras.Input(shape=(180, 180, 3)),\n",
        "#     layers.Rescaling(1./255),\n",
        "#     layers.Conv2D(32, (3, 3), activation='relu'),\n",
        "#     layers.MaxPooling2D(2, 2),\n",
        "#     layers.Conv2D(64, (3, 3), activation='relu'),\n",
        "#     layers.MaxPooling2D(2, 2),\n",
        "#     layers.Conv2D(128, (3, 3), activation='relu'),\n",
        "#     layers.MaxPooling2D(2, 2),\n",
        "#     layers.Flatten(),\n",
        "#     layers.Dense(256, activation='relu'),\n",
        "#     layers.Dropout(0.5),  # Dropout layer to reduce overfitting\n",
        "#     layers.Dense(num_classes, activation='softmax')\n",
        "# ])\n",
        "\n",
        "# # Compile the model\n",
        "# model.compile(optimizer='rmsprop',\n",
        "#               loss='sparse_categorical_crossentropy',\n",
        "#               metrics=['accuracy'])\n",
        "\n",
        "# # Data augmentation flow for training dataset\n",
        "# train_datagen = datagen.flow_from_directory(\n",
        "#     'flowers_new_split/train',\n",
        "#     target_size=(180, 180),\n",
        "#     batch_size=32,\n",
        "#     class_mode='sparse'\n",
        "# )\n",
        "\n",
        "# # Validation dataset\n",
        "# validation_dataset = image_dataset_from_directory(\n",
        "#     'flowers_new_split/validation',\n",
        "#     image_size=(180, 180),\n",
        "#     batch_size=32\n",
        "# )\n",
        "\n",
        "# # Train the model with data augmentation\n",
        "# history = model.fit(\n",
        "#     train_datagen,\n",
        "#     epochs=30,\n",
        "#     validation_data=validation_dataset,\n",
        "#     callbacks=callbacks\n",
        "# )\n"
      ],
      "metadata": {
        "id": "e1i6BaTg890P"
      },
      "execution_count": null,
      "outputs": []
    },
    {
      "cell_type": "code",
      "source": [
        "# test_model = keras.models.load_model(\n",
        "#     \"Flower_identification_with_augmentation_dropout.keras\")\n",
        "# test_loss, test_acc = test_model.evaluate(test_dataset)\n",
        "# aug_new_model= \"Test accuracy: \"+str(test_acc)\n",
        "# print(f\"Test accuracy: {test_acc:.3f}\")\n"
      ],
      "metadata": {
        "id": "oJJCRBjgBTlI"
      },
      "execution_count": null,
      "outputs": []
    },
    {
      "cell_type": "code",
      "source": [
        "base_model = VGG16(weights='imagenet', include_top=False, input_shape=(180, 180, 3))\n",
        "model = Sequential()\n",
        "model.add(base_model)\n",
        "model.add(Flatten())\n",
        "model.add(Dense(256, activation='relu'))\n",
        "model.add(Dense(5, activation='softmax'))  # Adjust the output layer units according to your number of flower classes (5 in this case)\n",
        "model.compile(optimizer=RMSprop(learning_rate=0.0001), loss='sparse_categorical_crossentropy', metrics=['accuracy'])\n",
        "\n",
        "\n",
        "history = model.fit(train_dataset, epochs=14, validation_data=validation_dataset, callbacks=callbacks)"
      ],
      "metadata": {
        "id": "ogM0Ez0Ibs6D"
      },
      "execution_count": null,
      "outputs": []
    },
    {
      "cell_type": "code",
      "source": [
        "test_model = keras.models.load_model(\n",
        "    \"Flower_identification_with_augmentation_dropout.keras\")\n",
        "test_loss, test_acc = test_model.evaluate(test_dataset)\n",
        "VGG16_new_model= \"Test accuracy: \"+str(test_acc)\n",
        "print(f\"Test accuracy: {test_acc:.3f}\")\n"
      ],
      "metadata": {
        "id": "Ax3Aa40kbv4t"
      },
      "execution_count": null,
      "outputs": []
    },
    {
      "cell_type": "code",
      "source": [
        "model_result= [basic_model, augm_model, VGG16_model, dropout_model, VGG16_new_model]\n",
        "for model in model_result:\n",
        "  print(model)"
      ],
      "metadata": {
        "id": "c5mHm_l_9mNR"
      },
      "execution_count": null,
      "outputs": []
    },
    {
      "cell_type": "code",
      "source": [
        "base_model"
      ],
      "metadata": {
        "id": "49FSkr17LTED"
      },
      "execution_count": null,
      "outputs": []
    }
  ]
}