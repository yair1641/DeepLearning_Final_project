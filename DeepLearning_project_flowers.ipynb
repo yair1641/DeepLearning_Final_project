{
  "nbformat": 4,
  "nbformat_minor": 0,
  "metadata": {
    "colab": {
      "provenance": [],
      "gpuType": "T4"
    },
    "kernelspec": {
      "name": "python3",
      "display_name": "Python 3"
    },
    "language_info": {
      "name": "python"
    },
    "accelerator": "GPU"
  },
  "cells": [
    {
      "cell_type": "code",
      "execution_count": null,
      "metadata": {
        "colab": {
          "base_uri": "https://localhost:8080/",
          "height": 90
        },
        "id": "Ew6_tVnJYKfz",
        "outputId": "2da60a54-39c5-4421-b0c4-785489305c01"
      },
      "outputs": [
        {
          "output_type": "display_data",
          "data": {
            "text/plain": [
              "<IPython.core.display.HTML object>"
            ],
            "text/html": [
              "\n",
              "     <input type=\"file\" id=\"files-d24c44da-86be-4fe2-8504-b6cd0875aee3\" name=\"files[]\" multiple disabled\n",
              "        style=\"border:none\" />\n",
              "     <output id=\"result-d24c44da-86be-4fe2-8504-b6cd0875aee3\">\n",
              "      Upload widget is only available when the cell has been executed in the\n",
              "      current browser session. Please rerun this cell to enable.\n",
              "      </output>\n",
              "      <script>// Copyright 2017 Google LLC\n",
              "//\n",
              "// Licensed under the Apache License, Version 2.0 (the \"License\");\n",
              "// you may not use this file except in compliance with the License.\n",
              "// You may obtain a copy of the License at\n",
              "//\n",
              "//      http://www.apache.org/licenses/LICENSE-2.0\n",
              "//\n",
              "// Unless required by applicable law or agreed to in writing, software\n",
              "// distributed under the License is distributed on an \"AS IS\" BASIS,\n",
              "// WITHOUT WARRANTIES OR CONDITIONS OF ANY KIND, either express or implied.\n",
              "// See the License for the specific language governing permissions and\n",
              "// limitations under the License.\n",
              "\n",
              "/**\n",
              " * @fileoverview Helpers for google.colab Python module.\n",
              " */\n",
              "(function(scope) {\n",
              "function span(text, styleAttributes = {}) {\n",
              "  const element = document.createElement('span');\n",
              "  element.textContent = text;\n",
              "  for (const key of Object.keys(styleAttributes)) {\n",
              "    element.style[key] = styleAttributes[key];\n",
              "  }\n",
              "  return element;\n",
              "}\n",
              "\n",
              "// Max number of bytes which will be uploaded at a time.\n",
              "const MAX_PAYLOAD_SIZE = 100 * 1024;\n",
              "\n",
              "function _uploadFiles(inputId, outputId) {\n",
              "  const steps = uploadFilesStep(inputId, outputId);\n",
              "  const outputElement = document.getElementById(outputId);\n",
              "  // Cache steps on the outputElement to make it available for the next call\n",
              "  // to uploadFilesContinue from Python.\n",
              "  outputElement.steps = steps;\n",
              "\n",
              "  return _uploadFilesContinue(outputId);\n",
              "}\n",
              "\n",
              "// This is roughly an async generator (not supported in the browser yet),\n",
              "// where there are multiple asynchronous steps and the Python side is going\n",
              "// to poll for completion of each step.\n",
              "// This uses a Promise to block the python side on completion of each step,\n",
              "// then passes the result of the previous step as the input to the next step.\n",
              "function _uploadFilesContinue(outputId) {\n",
              "  const outputElement = document.getElementById(outputId);\n",
              "  const steps = outputElement.steps;\n",
              "\n",
              "  const next = steps.next(outputElement.lastPromiseValue);\n",
              "  return Promise.resolve(next.value.promise).then((value) => {\n",
              "    // Cache the last promise value to make it available to the next\n",
              "    // step of the generator.\n",
              "    outputElement.lastPromiseValue = value;\n",
              "    return next.value.response;\n",
              "  });\n",
              "}\n",
              "\n",
              "/**\n",
              " * Generator function which is called between each async step of the upload\n",
              " * process.\n",
              " * @param {string} inputId Element ID of the input file picker element.\n",
              " * @param {string} outputId Element ID of the output display.\n",
              " * @return {!Iterable<!Object>} Iterable of next steps.\n",
              " */\n",
              "function* uploadFilesStep(inputId, outputId) {\n",
              "  const inputElement = document.getElementById(inputId);\n",
              "  inputElement.disabled = false;\n",
              "\n",
              "  const outputElement = document.getElementById(outputId);\n",
              "  outputElement.innerHTML = '';\n",
              "\n",
              "  const pickedPromise = new Promise((resolve) => {\n",
              "    inputElement.addEventListener('change', (e) => {\n",
              "      resolve(e.target.files);\n",
              "    });\n",
              "  });\n",
              "\n",
              "  const cancel = document.createElement('button');\n",
              "  inputElement.parentElement.appendChild(cancel);\n",
              "  cancel.textContent = 'Cancel upload';\n",
              "  const cancelPromise = new Promise((resolve) => {\n",
              "    cancel.onclick = () => {\n",
              "      resolve(null);\n",
              "    };\n",
              "  });\n",
              "\n",
              "  // Wait for the user to pick the files.\n",
              "  const files = yield {\n",
              "    promise: Promise.race([pickedPromise, cancelPromise]),\n",
              "    response: {\n",
              "      action: 'starting',\n",
              "    }\n",
              "  };\n",
              "\n",
              "  cancel.remove();\n",
              "\n",
              "  // Disable the input element since further picks are not allowed.\n",
              "  inputElement.disabled = true;\n",
              "\n",
              "  if (!files) {\n",
              "    return {\n",
              "      response: {\n",
              "        action: 'complete',\n",
              "      }\n",
              "    };\n",
              "  }\n",
              "\n",
              "  for (const file of files) {\n",
              "    const li = document.createElement('li');\n",
              "    li.append(span(file.name, {fontWeight: 'bold'}));\n",
              "    li.append(span(\n",
              "        `(${file.type || 'n/a'}) - ${file.size} bytes, ` +\n",
              "        `last modified: ${\n",
              "            file.lastModifiedDate ? file.lastModifiedDate.toLocaleDateString() :\n",
              "                                    'n/a'} - `));\n",
              "    const percent = span('0% done');\n",
              "    li.appendChild(percent);\n",
              "\n",
              "    outputElement.appendChild(li);\n",
              "\n",
              "    const fileDataPromise = new Promise((resolve) => {\n",
              "      const reader = new FileReader();\n",
              "      reader.onload = (e) => {\n",
              "        resolve(e.target.result);\n",
              "      };\n",
              "      reader.readAsArrayBuffer(file);\n",
              "    });\n",
              "    // Wait for the data to be ready.\n",
              "    let fileData = yield {\n",
              "      promise: fileDataPromise,\n",
              "      response: {\n",
              "        action: 'continue',\n",
              "      }\n",
              "    };\n",
              "\n",
              "    // Use a chunked sending to avoid message size limits. See b/62115660.\n",
              "    let position = 0;\n",
              "    do {\n",
              "      const length = Math.min(fileData.byteLength - position, MAX_PAYLOAD_SIZE);\n",
              "      const chunk = new Uint8Array(fileData, position, length);\n",
              "      position += length;\n",
              "\n",
              "      const base64 = btoa(String.fromCharCode.apply(null, chunk));\n",
              "      yield {\n",
              "        response: {\n",
              "          action: 'append',\n",
              "          file: file.name,\n",
              "          data: base64,\n",
              "        },\n",
              "      };\n",
              "\n",
              "      let percentDone = fileData.byteLength === 0 ?\n",
              "          100 :\n",
              "          Math.round((position / fileData.byteLength) * 100);\n",
              "      percent.textContent = `${percentDone}% done`;\n",
              "\n",
              "    } while (position < fileData.byteLength);\n",
              "  }\n",
              "\n",
              "  // All done.\n",
              "  yield {\n",
              "    response: {\n",
              "      action: 'complete',\n",
              "    }\n",
              "  };\n",
              "}\n",
              "\n",
              "scope.google = scope.google || {};\n",
              "scope.google.colab = scope.google.colab || {};\n",
              "scope.google.colab._files = {\n",
              "  _uploadFiles,\n",
              "  _uploadFilesContinue,\n",
              "};\n",
              "})(self);\n",
              "</script> "
            ]
          },
          "metadata": {}
        },
        {
          "output_type": "stream",
          "name": "stdout",
          "text": [
            "Saving kaggle.json to kaggle.json\n"
          ]
        },
        {
          "output_type": "execute_result",
          "data": {
            "text/plain": [
              "{'kaggle.json': b'{\"username\":\"yitzhakgrinvald\",\"key\":\"e174162200b831fe822116cd99c868d4\"}'}"
            ]
          },
          "metadata": {},
          "execution_count": 1
        }
      ],
      "source": [
        "#! pip install -q kaggle\n",
        "from google.colab import files\n",
        "\n",
        "files.upload()  # Choose the kaggle.json file that you downloaded"
      ]
    },
    {
      "cell_type": "code",
      "execution_count": null,
      "metadata": {
        "id": "Kq0ThCXmXa0q"
      },
      "outputs": [],
      "source": [
        "import numpy as np\n",
        "import tensorflow as tf\n",
        "from tensorflow import keras\n",
        "from tensorflow.keras import layers\n",
        "\n",
        "import pandas as pd\n"
      ]
    },
    {
      "cell_type": "markdown",
      "metadata": {
        "id": "hZY1vPlYXa0r"
      },
      "source": [
        "Make directory named kaggle and copy kaggle.json file ther"
      ]
    },
    {
      "cell_type": "code",
      "execution_count": null,
      "metadata": {
        "id": "7pSy1GT2Xa0r"
      },
      "outputs": [],
      "source": [
        "! mkdir ~/.kaggle\n",
        "! cp kaggle.json ~/.kaggle/"
      ]
    },
    {
      "cell_type": "markdown",
      "metadata": {
        "id": "myyT-EUjXa0r"
      },
      "source": [
        "Change the permissions of the file:"
      ]
    },
    {
      "cell_type": "code",
      "execution_count": null,
      "metadata": {
        "id": "plDnuxiqXa0s"
      },
      "outputs": [],
      "source": [
        "! chmod 600 ~/.kaggle/kaggle.json"
      ]
    },
    {
      "cell_type": "code",
      "execution_count": null,
      "metadata": {
        "id": "OnYDmq8HXa0s",
        "colab": {
          "base_uri": "https://localhost:8080/"
        },
        "outputId": "8baa5256-8889-4721-b72c-df545fd82d47"
      },
      "outputs": [
        {
          "output_type": "stream",
          "name": "stdout",
          "text": [
            "Downloading flowers-recognition.zip to /content\n",
            "100% 225M/225M [00:06<00:00, 41.5MB/s]\n",
            "100% 225M/225M [00:06<00:00, 36.7MB/s]\n"
          ]
        }
      ],
      "source": [
        "!kaggle datasets download -d alxmamaev/flowers-recognition"
      ]
    },
    {
      "cell_type": "code",
      "execution_count": null,
      "metadata": {
        "id": "CTkSIbcgXa0t"
      },
      "outputs": [],
      "source": [
        "!unzip -qq flowers-recognition.zip"
      ]
    },
    {
      "cell_type": "markdown",
      "source": [
        "Preparing the folders for splitting into train, val, test"
      ],
      "metadata": {
        "id": "VQEYdFl9aG2m"
      }
    },
    {
      "cell_type": "code",
      "source": [
        "import os\n",
        "import glob\n",
        "\n",
        "# Define the source and target directories\n",
        "source_parent_directory = \"flowers\"\n",
        "target_parent_directory = \"flowers_new\"\n",
        "\n",
        "# Ensure the target directory exists\n",
        "os.makedirs(target_parent_directory, exist_ok=True)\n",
        "\n",
        "# Iterate over the flower categories\n",
        "flower_categories = ['daisy', 'dandelion', 'rose', 'sunflower', 'tulip']\n",
        "\n",
        "for category in flower_categories:\n",
        "    source_directory = os.path.join(source_parent_directory, category)\n",
        "    target_directory = os.path.join(target_parent_directory, category)\n",
        "\n",
        "    # Ensure the target directory for the current category exists\n",
        "    os.makedirs(target_directory, exist_ok=True)\n",
        "\n",
        "    # Initialize a counter for the new numeric names\n",
        "    new_name_counter = 0\n",
        "\n",
        "    # Iterate over image files in the source directory (assuming they are in .jpg format)\n",
        "    for image_file in glob.glob(os.path.join(source_directory, \"*.jpg\")):\n",
        "        # Generate the new filename with the desired format (e.g., \"0.jpg\", \"1.jpg\", ...)\n",
        "        new_filename = f\"{new_name_counter}.jpg\"\n",
        "\n",
        "        # Create the new file's full path in the target directory\n",
        "        target_filepath = os.path.join(target_directory, new_filename)\n",
        "\n",
        "        # Rename and move the file\n",
        "        os.rename(image_file, target_filepath)\n",
        "\n",
        "        # Increment the counter for the next file\n",
        "        new_name_counter += 1\n",
        "\n"
      ],
      "metadata": {
        "id": "qYAysJSFQxeE"
      },
      "execution_count": null,
      "outputs": []
    },
    {
      "cell_type": "markdown",
      "source": [
        "Splitting the data into train, val, test"
      ],
      "metadata": {
        "id": "YXRPWLIAScxt"
      }
    },
    {
      "cell_type": "code",
      "source": [
        "import shutil\n",
        "import pathlib\n",
        "\n",
        "original_dir = pathlib.Path(\"flowers_new\")\n",
        "new_base_dir = pathlib.Path(\"flowers_new_split\")\n",
        "\n",
        "def make_subset(subset_name, start_index, end_index):\n",
        "    for category in (\"daisy\", \"dandelion\", \"rose\",\"sunflower\",  \"tulip\"):\n",
        "        dir = new_base_dir / subset_name / category\n",
        "        os.makedirs(dir, exist_ok=True)  # Create directories if they don't exist\n",
        "        fnames = [f\"{i}.jpg\" for i in range(start_index, end_index)]\n",
        "        for fname in fnames:\n",
        "\n",
        "            src_path = original_dir / category / fname\n",
        "            dst_path = dir / fname\n",
        "            shutil.copyfile(src=src_path, dst=dst_path)\n",
        "\n",
        "make_subset(\"train\", start_index=0, end_index=590)\n",
        "make_subset(\"validation\", start_index=590, end_index=660)\n",
        "make_subset(\"test\", start_index=660, end_index=730)\n"
      ],
      "metadata": {
        "id": "_rSaT06sr2Jq"
      },
      "execution_count": null,
      "outputs": []
    },
    {
      "cell_type": "code",
      "execution_count": null,
      "metadata": {
        "id": "1r8bNSnIXa0u",
        "outputId": "1d2161e4-84e4-4cc4-becf-a6462622dd2f",
        "colab": {
          "base_uri": "https://localhost:8080/"
        }
      },
      "outputs": [
        {
          "output_type": "stream",
          "name": "stdout",
          "text": [
            "Found 2950 files belonging to 5 classes.\n",
            "Found 350 files belonging to 5 classes.\n",
            "Found 350 files belonging to 5 classes.\n"
          ]
        }
      ],
      "source": [
        "from tensorflow.keras.utils import image_dataset_from_directory\n",
        "\n",
        "train_dataset = image_dataset_from_directory(\n",
        "    new_base_dir / \"train\",\n",
        "    image_size=(180, 180),\n",
        "    batch_size=32)\n",
        "validation_dataset = image_dataset_from_directory(\n",
        "    new_base_dir / \"validation\",\n",
        "    image_size=(180, 180),\n",
        "    batch_size=32)\n",
        "test_dataset = image_dataset_from_directory(\n",
        "    new_base_dir / \"test\",\n",
        "    image_size=(180, 180),\n",
        "    batch_size=32)\n"
      ]
    },
    {
      "cell_type": "markdown",
      "source": [
        "The Base Model 1 (optimizer= \"rmsprop\")"
      ],
      "metadata": {
        "id": "A63BV9T6GuKE"
      }
    },
    {
      "cell_type": "code",
      "source": [
        "num_classes = 5\n",
        "\n",
        "\n",
        "# Input layer\n",
        "inputs = keras.Input(shape=(180, 180, 3))\n",
        "\n",
        "x = layers.Rescaling(1./255)(inputs)\n",
        "\n",
        "# Convolutional layers with max pooling\n",
        "x = layers.Conv2D(filters=32, kernel_size=3, activation=\"relu\")(x)\n",
        "x = layers.MaxPooling2D(pool_size=2)(x)\n",
        "x = layers.Conv2D(filters=64, kernel_size=3, activation=\"relu\")(x)\n",
        "x = layers.MaxPooling2D(pool_size=2)(x)\n",
        "x = layers.Conv2D(filters=128, kernel_size=3, activation=\"relu\")(x)\n",
        "x = layers.MaxPooling2D(pool_size=2)(x)\n",
        "x = layers.Conv2D(filters=256, kernel_size=3, activation=\"relu\")(x)\n",
        "x = layers.MaxPooling2D(pool_size=2)(x)\n",
        "x = layers.Conv2D(filters=256, kernel_size=3, activation=\"relu\")(x)\n",
        "\n",
        "x = layers.Flatten()(x)\n",
        "\n",
        "outputs = layers.Dense(num_classes, activation=\"softmax\")(x)\n",
        "model = keras.Model(inputs=inputs, outputs=outputs)\n"
      ],
      "metadata": {
        "id": "wW6eOUWfwq9t"
      },
      "execution_count": null,
      "outputs": []
    },
    {
      "cell_type": "code",
      "source": [
        "\n",
        "\n",
        "num_classes = 5\n",
        "\n",
        "model.compile(\n",
        "    optimizer=\"rmsprop\",\n",
        "    loss=\"sparse_categorical_crossentropy\",\n",
        "    metrics=[\"accuracy\"]\n",
        ")\n",
        "\n",
        "callbacks = [\n",
        "    keras.callbacks.ModelCheckpoint(\n",
        "        filepath=\"Flower_identification.keras\",\n",
        "        save_best_only=True,\n",
        "        monitor=\"val_loss\"\n",
        "    )\n",
        "]\n",
        "\n",
        "history = model.fit(\n",
        "    train_dataset,\n",
        "    epochs=10,\n",
        "    validation_data=validation_dataset,\n",
        "    callbacks=callbacks\n",
        ")\n"
      ],
      "metadata": {
        "colab": {
          "base_uri": "https://localhost:8080/"
        },
        "id": "7CVJapgexklY",
        "outputId": "ad3daefb-87c6-41cb-f166-7f65684e0d74"
      },
      "execution_count": null,
      "outputs": [
        {
          "output_type": "stream",
          "name": "stdout",
          "text": [
            "Epoch 1/10\n",
            "93/93 [==============================] - 19s 69ms/step - loss: 1.4669 - accuracy: 0.3603 - val_loss: 1.2723 - val_accuracy: 0.4657\n",
            "Epoch 2/10\n",
            "93/93 [==============================] - 7s 73ms/step - loss: 1.1949 - accuracy: 0.5044 - val_loss: 1.2333 - val_accuracy: 0.5457\n",
            "Epoch 3/10\n",
            "93/93 [==============================] - 6s 61ms/step - loss: 1.0564 - accuracy: 0.5827 - val_loss: 1.2225 - val_accuracy: 0.5229\n",
            "Epoch 4/10\n",
            "93/93 [==============================] - 7s 72ms/step - loss: 0.9788 - accuracy: 0.6298 - val_loss: 1.1911 - val_accuracy: 0.5714\n",
            "Epoch 5/10\n",
            "93/93 [==============================] - 6s 59ms/step - loss: 0.8921 - accuracy: 0.6651 - val_loss: 1.1430 - val_accuracy: 0.5971\n",
            "Epoch 6/10\n",
            "93/93 [==============================] - 7s 73ms/step - loss: 0.8206 - accuracy: 0.7020 - val_loss: 1.0542 - val_accuracy: 0.6229\n",
            "Epoch 7/10\n",
            "93/93 [==============================] - 6s 62ms/step - loss: 0.7409 - accuracy: 0.7227 - val_loss: 1.0417 - val_accuracy: 0.6686\n",
            "Epoch 8/10\n",
            "93/93 [==============================] - 8s 78ms/step - loss: 0.6846 - accuracy: 0.7485 - val_loss: 0.9966 - val_accuracy: 0.6571\n",
            "Epoch 9/10\n",
            "93/93 [==============================] - 6s 60ms/step - loss: 0.6029 - accuracy: 0.7790 - val_loss: 1.6032 - val_accuracy: 0.5600\n",
            "Epoch 10/10\n",
            "93/93 [==============================] - 7s 71ms/step - loss: 0.5504 - accuracy: 0.8061 - val_loss: 1.2991 - val_accuracy: 0.6686\n"
          ]
        }
      ]
    },
    {
      "cell_type": "code",
      "execution_count": null,
      "metadata": {
        "id": "6ufypsyfXa0w",
        "outputId": "815d57fe-582a-415d-95be-55559ffd0d58",
        "colab": {
          "base_uri": "https://localhost:8080/",
          "height": 887
        }
      },
      "outputs": [
        {
          "output_type": "display_data",
          "data": {
            "text/plain": [
              "<Figure size 640x480 with 1 Axes>"
            ],
            "image/png": "[encoded data removed]"
          },
          "metadata": {}
        },
        {
          "output_type": "display_data",
          "data": {
            "text/plain": [
              "<Figure size 640x480 with 1 Axes>"
            ],
            "image/png": "[encoded data removed]"
          },
          "metadata": {}
        }
      ],
      "source": [
        "import matplotlib.pyplot as plt\n",
        "accuracy = history.history[\"accuracy\"]\n",
        "val_accuracy = history.history[\"val_accuracy\"]\n",
        "loss = history.history[\"loss\"]\n",
        "val_loss = history.history[\"val_loss\"]\n",
        "epochs = range(1, len(accuracy) + 1)\n",
        "plt.plot(epochs, accuracy, \"bo\", label=\"Training accuracy\")\n",
        "plt.plot(epochs, val_accuracy, \"b\", label=\"Validation accuracy\")\n",
        "plt.title(\"Training and validation accuracy\")\n",
        "plt.legend()\n",
        "plt.figure()\n",
        "plt.plot(epochs, loss, \"bo\", label=\"Training loss\")\n",
        "plt.plot(epochs, val_loss, \"b\", label=\"Validation loss\")\n",
        "plt.title(\"Training and validation loss\")\n",
        "plt.legend()\n",
        "plt.show()"
      ]
    },
    {
      "cell_type": "markdown",
      "metadata": {
        "id": "JqqavZF2Xa0w"
      },
      "source": [
        "**Evaluating the model on the test set**"
      ]
    },
    {
      "cell_type": "code",
      "execution_count": null,
      "metadata": {
        "id": "6WS7Thj7Xa0w",
        "outputId": "7588d24f-e9b5-4f40-d5e8-f4605424ef34",
        "colab": {
          "base_uri": "https://localhost:8080/"
        }
      },
      "outputs": [
        {
          "output_type": "stream",
          "name": "stdout",
          "text": [
            "11/11 [==============================] - 1s 24ms/step - loss: 0.8432 - accuracy: 0.6743\n",
            "Test accuracy: 0.674\n"
          ]
        }
      ],
      "source": [
        "test_model = keras.models.load_model(\"Flower_identification.keras\")\n",
        "test_loss, test_acc = test_model.evaluate(test_dataset)\n",
        "basic_model1= ['basic_model_rmsprop',str(test_acc)]\n",
        "print(f\"Test accuracy: {test_acc:.3f}\")"
      ]
    },
    {
      "cell_type": "markdown",
      "source": [
        "The Base Model 2 (optimizer= \"adam\")"
      ],
      "metadata": {
        "id": "ntp3mbquHIT9"
      }
    },
    {
      "cell_type": "code",
      "source": [
        "\n",
        "\n",
        "# Input layer\n",
        "inputs = keras.Input(shape=(180, 180, 3))\n",
        "x = layers.Rescaling(1./255)(inputs)\n",
        "\n",
        "# Convolutional layers with max pooling\n",
        "x = layers.Conv2D(filters=32, kernel_size=3, activation=\"relu\")(x)\n",
        "x = layers.MaxPooling2D(pool_size=2)(x)\n",
        "x = layers.Conv2D(filters=64, kernel_size=3, activation=\"relu\")(x)\n",
        "x = layers.MaxPooling2D(pool_size=2)(x)\n",
        "x = layers.Conv2D(filters=128, kernel_size=3, activation=\"relu\")(x)\n",
        "x = layers.MaxPooling2D(pool_size=2)(x)\n",
        "x = layers.Conv2D(filters=256, kernel_size=3, activation=\"relu\")(x)\n",
        "x = layers.MaxPooling2D(pool_size=2)(x)\n",
        "x = layers.Conv2D(filters=256, kernel_size=3, activation=\"relu\")(x)\n",
        "\n",
        "x = layers.Flatten()(x)\n",
        "outputs = layers.Dense(num_classes, activation=\"softmax\")(x)\n",
        "\n",
        "# Define the model\n",
        "model = keras.Model(inputs=inputs, outputs=outputs)\n",
        "import tensorflow as tf\n",
        "from tensorflow import keras\n",
        "num_classes = 5\n",
        "\n",
        "model.compile(\n",
        "    optimizer=\"adam\",\n",
        "    loss=\"sparse_categorical_crossentropy\",\n",
        "    metrics=[\"accuracy\"]\n",
        ")\n",
        "\n",
        "callbacks = [\n",
        "    keras.callbacks.ModelCheckpoint(\n",
        "        filepath=\"Flower_identification2.keras\",\n",
        "        save_best_only=True,\n",
        "        monitor=\"val_loss\"\n",
        "    )\n",
        "]\n",
        "\n",
        "history = model.fit(\n",
        "    train_dataset,\n",
        "    epochs=10,\n",
        "    validation_data=validation_dataset,\n",
        "    callbacks=callbacks\n",
        ")\n"
      ],
      "metadata": {
        "colab": {
          "base_uri": "https://localhost:8080/"
        },
        "id": "6Og3Gh9EDpTl",
        "outputId": "c4b8d006-2892-4283-8526-2cdb4b44a7c0"
      },
      "execution_count": null,
      "outputs": [
        {
          "output_type": "stream",
          "name": "stdout",
          "text": [
            "Epoch 1/10\n",
            "93/93 [==============================] - 10s 63ms/step - loss: 1.3096 - accuracy: 0.4197 - val_loss: 1.4934 - val_accuracy: 0.4171\n",
            "Epoch 2/10\n",
            "93/93 [==============================] - 7s 71ms/step - loss: 1.1277 - accuracy: 0.5383 - val_loss: 1.1901 - val_accuracy: 0.4971\n",
            "Epoch 3/10\n",
            "93/93 [==============================] - 6s 60ms/step - loss: 1.0023 - accuracy: 0.5973 - val_loss: 0.9852 - val_accuracy: 0.6171\n",
            "Epoch 4/10\n",
            "93/93 [==============================] - 7s 75ms/step - loss: 0.9239 - accuracy: 0.6444 - val_loss: 0.9132 - val_accuracy: 0.6429\n",
            "Epoch 5/10\n",
            "93/93 [==============================] - 6s 63ms/step - loss: 0.8203 - accuracy: 0.6881 - val_loss: 1.1587 - val_accuracy: 0.6371\n",
            "Epoch 6/10\n",
            "93/93 [==============================] - 7s 75ms/step - loss: 0.7592 - accuracy: 0.7085 - val_loss: 1.0698 - val_accuracy: 0.6629\n",
            "Epoch 7/10\n",
            "93/93 [==============================] - 7s 73ms/step - loss: 0.7155 - accuracy: 0.7292 - val_loss: 0.9477 - val_accuracy: 0.6743\n",
            "Epoch 8/10\n",
            "93/93 [==============================] - 6s 59ms/step - loss: 0.5908 - accuracy: 0.7807 - val_loss: 0.9194 - val_accuracy: 0.7286\n",
            "Epoch 9/10\n",
            "93/93 [==============================] - 7s 74ms/step - loss: 0.5337 - accuracy: 0.7966 - val_loss: 1.1398 - val_accuracy: 0.7086\n",
            "Epoch 10/10\n",
            "93/93 [==============================] - 6s 64ms/step - loss: 0.4204 - accuracy: 0.8403 - val_loss: 1.1319 - val_accuracy: 0.6943\n",
            "11/11 [==============================] - 1s 32ms/step - loss: 0.8432 - accuracy: 0.6743\n",
            "Test accuracy: 0.674\n"
          ]
        }
      ]
    },
    {
      "cell_type": "code",
      "source": [
        "test_model = keras.models.load_model(\"Flower_identification2.keras\")\n",
        "test_loss, test_acc = test_model.evaluate(test_dataset)\n",
        "basic_model2= ['basic_model_adam',str(test_acc)]\n",
        "print(f\"Test accuracy: {test_acc:.3f}\")"
      ],
      "metadata": {
        "colab": {
          "base_uri": "https://localhost:8080/"
        },
        "id": "oJHf4NefIl3O",
        "outputId": "46d55466-f0cd-4817-aefa-1929aac6e587"
      },
      "execution_count": null,
      "outputs": [
        {
          "output_type": "stream",
          "name": "stdout",
          "text": [
            "11/11 [==============================] - 1s 22ms/step - loss: 0.8282 - accuracy: 0.6857\n",
            "Test accuracy: 0.686\n"
          ]
        }
      ]
    },
    {
      "cell_type": "markdown",
      "metadata": {
        "id": "fcwfqnuoXa0w"
      },
      "source": [
        "# Using data augmentation"
      ]
    },
    {
      "cell_type": "markdown",
      "metadata": {
        "id": "IxprijleXa0w"
      },
      "source": [
        "### Define a data augmentation stage to add to an image model"
      ]
    },
    {
      "cell_type": "code",
      "execution_count": null,
      "metadata": {
        "id": "UK_rQBTuXa0x"
      },
      "outputs": [],
      "source": [
        "data_augmentation = keras.Sequential(\n",
        "    [\n",
        "        layers.RandomFlip(\"horizontal\"),\n",
        "        layers.RandomRotation(0.1),\n",
        "        layers.RandomZoom(0.2),\n",
        "    ]\n",
        ")"
      ]
    },
    {
      "cell_type": "markdown",
      "metadata": {
        "id": "bZafZIk3Xa0x"
      },
      "source": [
        "**Defining a new convnet that includes image augmentation and dropout**"
      ]
    },
    {
      "cell_type": "code",
      "execution_count": null,
      "metadata": {
        "id": "FLi2E7j0Xa0x",
        "colab": {
          "base_uri": "https://localhost:8080/"
        },
        "outputId": "588d769f-15fc-42c0-c986-b6e56ff3517b"
      },
      "outputs": [
        {
          "output_type": "stream",
          "name": "stdout",
          "text": [
            "Epoch 1/14\n",
            "93/93 [==============================] - 9s 78ms/step - loss: 1.3788 - accuracy: 0.3946 - val_loss: 1.3196 - val_accuracy: 0.4600\n",
            "Epoch 2/14\n",
            "93/93 [==============================] - 7s 66ms/step - loss: 1.1999 - accuracy: 0.4969 - val_loss: 1.1299 - val_accuracy: 0.5257\n",
            "Epoch 3/14\n",
            "93/93 [==============================] - 7s 66ms/step - loss: 1.0713 - accuracy: 0.5800 - val_loss: 1.0066 - val_accuracy: 0.5914\n",
            "Epoch 4/14\n",
            "93/93 [==============================] - 7s 72ms/step - loss: 1.0249 - accuracy: 0.6024 - val_loss: 1.3390 - val_accuracy: 0.5057\n",
            "Epoch 5/14\n",
            "93/93 [==============================] - 6s 62ms/step - loss: 0.9495 - accuracy: 0.6403 - val_loss: 1.0009 - val_accuracy: 0.6286\n",
            "Epoch 6/14\n",
            "93/93 [==============================] - 7s 73ms/step - loss: 0.9201 - accuracy: 0.6586 - val_loss: 1.4781 - val_accuracy: 0.4629\n",
            "Epoch 7/14\n",
            "93/93 [==============================] - 6s 63ms/step - loss: 0.8870 - accuracy: 0.6641 - val_loss: 0.9802 - val_accuracy: 0.6143\n",
            "Epoch 8/14\n",
            "93/93 [==============================] - 7s 66ms/step - loss: 0.8436 - accuracy: 0.6905 - val_loss: 1.0971 - val_accuracy: 0.5857\n",
            "Epoch 9/14\n",
            "93/93 [==============================] - 8s 83ms/step - loss: 0.8215 - accuracy: 0.6905 - val_loss: 0.9965 - val_accuracy: 0.6686\n",
            "Epoch 10/14\n",
            "93/93 [==============================] - 7s 76ms/step - loss: 0.7967 - accuracy: 0.7027 - val_loss: 0.9905 - val_accuracy: 0.6400\n",
            "Epoch 11/14\n",
            "93/93 [==============================] - 7s 65ms/step - loss: 0.7646 - accuracy: 0.7163 - val_loss: 0.8163 - val_accuracy: 0.7086\n",
            "Epoch 12/14\n",
            "93/93 [==============================] - 7s 73ms/step - loss: 0.7178 - accuracy: 0.7298 - val_loss: 1.1223 - val_accuracy: 0.6686\n",
            "Epoch 13/14\n",
            "93/93 [==============================] - 6s 61ms/step - loss: 0.7086 - accuracy: 0.7403 - val_loss: 0.9344 - val_accuracy: 0.6971\n",
            "Epoch 14/14\n",
            "93/93 [==============================] - 7s 75ms/step - loss: 0.7164 - accuracy: 0.7451 - val_loss: 1.3168 - val_accuracy: 0.6286\n"
          ]
        }
      ],
      "source": [
        "num_classes = 5\n",
        "\n",
        "inputs = keras.Input(shape=(180, 180, 3))\n",
        "x = data_augmentation(inputs)\n",
        "x = layers.Rescaling(1./255)(x)\n",
        "x = layers.Conv2D(filters=32, kernel_size=3, activation=\"relu\")(x)\n",
        "x = layers.MaxPooling2D(pool_size=2)(x)\n",
        "x = layers.Conv2D(filters=64, kernel_size=3, activation=\"relu\")(x)\n",
        "x = layers.MaxPooling2D(pool_size=2)(x)\n",
        "x = layers.Conv2D(filters=128, kernel_size=3, activation=\"relu\")(x)\n",
        "x = layers.MaxPooling2D(pool_size=2)(x)\n",
        "x = layers.Conv2D(filters=256, kernel_size=3, activation=\"relu\")(x)\n",
        "x = layers.MaxPooling2D(pool_size=2)(x)\n",
        "x = layers.Conv2D(filters=256, kernel_size=3, activation=\"relu\")(x)\n",
        "x = layers.Flatten()(x)\n",
        "x = layers.Dropout(0.5)(x)\n",
        "outputs = layers.Dense(num_classes, activation=\"softmax\")(x)\n",
        "model = keras.Model(inputs=inputs, outputs=outputs)\n",
        "\n",
        "model.compile(loss=\"sparse_categorical_crossentropy\",\n",
        "              optimizer=\"rmsprop\",\n",
        "              metrics=[\"accuracy\"])\n",
        "\n",
        "\n",
        "callbacks = [\n",
        "    keras.callbacks.ModelCheckpoint(\n",
        "        filepath=\"Flower_identification_with_augmentation.keras\",\n",
        "        save_best_only=True,\n",
        "        monitor=\"val_loss\")\n",
        "]\n",
        "history = model.fit(\n",
        "    train_dataset,\n",
        "    epochs=14,\n",
        "    validation_data=validation_dataset,\n",
        "    callbacks=callbacks)\n"
      ]
    },
    {
      "cell_type": "markdown",
      "metadata": {
        "id": "yHwequJeXa0x"
      },
      "source": [
        "**Training the regularized networks**"
      ]
    },
    {
      "cell_type": "code",
      "source": [
        "import matplotlib.pyplot as plt\n",
        "accuracy = history.history[\"accuracy\"]\n",
        "val_accuracy = history.history[\"val_accuracy\"]\n",
        "loss = history.history[\"loss\"]\n",
        "val_loss = history.history[\"val_loss\"]\n",
        "epochs = range(1, len(accuracy) + 1)\n",
        "plt.plot(epochs, accuracy, \"bo\", label=\"Training accuracy\")\n",
        "plt.plot(epochs, val_accuracy, \"b\", label=\"Validation accuracy\")\n",
        "plt.title(\"Training and validation accuracy\")\n",
        "plt.legend()\n",
        "plt.figure()\n",
        "plt.plot(epochs, loss, \"bo\", label=\"Training loss\")\n",
        "plt.plot(epochs, val_loss, \"b\", label=\"Validation loss\")\n",
        "plt.title(\"Training and validation loss\")\n",
        "plt.legend()\n",
        "plt.show()"
      ],
      "metadata": {
        "colab": {
          "base_uri": "https://localhost:8080/",
          "height": 887
        },
        "id": "VGzMNZeVly7w",
        "outputId": "0070ece0-e984-4a11-901e-b14c9ca9b1ec"
      },
      "execution_count": null,
      "outputs": [
        {
          "output_type": "display_data",
          "data": {
            "text/plain": [
              "<Figure size 640x480 with 1 Axes>"
            ],
            "image/png": "[encoded data removed]"
          },
          "metadata": {}
        },
        {
          "output_type": "display_data",
          "data": {
            "text/plain": [
              "<Figure size 640x480 with 1 Axes>"
            ],
            "image/png": "[encoded data removed]"
          },
          "metadata": {}
        }
      ]
    },
    {
      "cell_type": "markdown",
      "metadata": {
        "id": "OaYeF3Z8Xa0y"
      },
      "source": [
        "**evaluating the the new model**"
      ]
    },
    {
      "cell_type": "code",
      "execution_count": null,
      "metadata": {
        "id": "5dXworJFXa0y",
        "colab": {
          "base_uri": "https://localhost:8080/"
        },
        "outputId": "746fd827-59a4-4764-ad71-e9ade7453cf0"
      },
      "outputs": [
        {
          "output_type": "stream",
          "name": "stdout",
          "text": [
            "11/11 [==============================] - 1s 24ms/step - loss: 0.7487 - accuracy: 0.7257\n",
            "Test accuracy: 0.726\n"
          ]
        }
      ],
      "source": [
        "test_model = keras.models.load_model(\n",
        "    \"Flower_identification_with_augmentation.keras\")\n",
        "test_loss, test_acc = test_model.evaluate(test_dataset)\n",
        "augm_model= ['augm_model',str(test_acc)]\n",
        "print(f\"Test accuracy: {test_acc:.3f}\")\n"
      ]
    },
    {
      "cell_type": "code",
      "source": [
        "num_classes = 5\n",
        "\n",
        "inputs = keras.Input(shape=(180, 180, 3))\n",
        "x = data_augmentation(inputs)\n",
        "x = layers.Rescaling(1./255)(x)\n",
        "x = layers.Conv2D(filters=32, kernel_size=3, activation=\"relu\")(x)\n",
        "x = layers.MaxPooling2D(pool_size=2)(x)\n",
        "x = layers.Conv2D(filters=64, kernel_size=3, activation=\"relu\")(x)\n",
        "x = layers.MaxPooling2D(pool_size=2)(x)\n",
        "x = layers.Conv2D(filters=128, kernel_size=3, activation=\"relu\")(x)\n",
        "x = layers.MaxPooling2D(pool_size=2)(x)\n",
        "x = layers.Conv2D(filters=256, kernel_size=3, activation=\"relu\")(x)\n",
        "x = layers.MaxPooling2D(pool_size=2)(x)\n",
        "x = layers.Conv2D(filters=256, kernel_size=3, activation=\"relu\")(x)\n",
        "x = layers.Flatten()(x)\n",
        "x = layers.Dropout(0.5)(x)\n",
        "outputs = layers.Dense(num_classes, activation=\"softmax\")(x)\n",
        "model = keras.Model(inputs=inputs, outputs=outputs)\n",
        "\n",
        "model.compile(loss=\"sparse_categorical_crossentropy\",\n",
        "              optimizer=\"adam\",\n",
        "              metrics=[\"accuracy\"])\n",
        "\n",
        "\n",
        "callbacks = [\n",
        "    keras.callbacks.ModelCheckpoint(\n",
        "        filepath=\"Flower_identification_with_augmentation_adam.keras\",\n",
        "        save_best_only=True,\n",
        "        monitor=\"val_loss\")\n",
        "]\n",
        "history = model.fit(\n",
        "    train_dataset,\n",
        "    epochs=14,\n",
        "    validation_data=validation_dataset,\n",
        "    callbacks=callbacks)\n",
        "\n",
        "\n",
        "test_model = keras.models.load_model(\n",
        "    \"Flower_identification_with_augmentation_adam.keras\")\n",
        "test_loss, test_acc = test_model.evaluate(test_dataset)\n",
        "augm_model_adam= ['augm_model_adam',str(test_acc)]\n",
        "print(f\"Test accuracy: {test_acc:.3f}\")\n"
      ],
      "metadata": {
        "colab": {
          "base_uri": "https://localhost:8080/"
        },
        "id": "PEfJPEc2Igdh",
        "outputId": "7dd2563d-f224-4992-917b-c46cdb4db93a"
      },
      "execution_count": null,
      "outputs": [
        {
          "output_type": "stream",
          "name": "stdout",
          "text": [
            "Epoch 1/14\n",
            "93/93 [==============================] - 10s 77ms/step - loss: 1.3891 - accuracy: 0.3620 - val_loss: 1.2097 - val_accuracy: 0.4600\n",
            "Epoch 2/14\n",
            "93/93 [==============================] - 6s 63ms/step - loss: 1.1496 - accuracy: 0.5336 - val_loss: 1.0419 - val_accuracy: 0.5829\n",
            "Epoch 3/14\n",
            "93/93 [==============================] - 8s 79ms/step - loss: 1.0265 - accuracy: 0.5939 - val_loss: 0.9671 - val_accuracy: 0.6343\n",
            "Epoch 4/14\n",
            "93/93 [==============================] - 6s 64ms/step - loss: 0.9742 - accuracy: 0.6278 - val_loss: 1.0176 - val_accuracy: 0.6200\n",
            "Epoch 5/14\n",
            "93/93 [==============================] - 7s 75ms/step - loss: 0.9554 - accuracy: 0.6298 - val_loss: 1.0819 - val_accuracy: 0.6086\n",
            "Epoch 6/14\n",
            "93/93 [==============================] - 6s 62ms/step - loss: 0.8656 - accuracy: 0.6617 - val_loss: 1.0032 - val_accuracy: 0.6257\n",
            "Epoch 7/14\n",
            "93/93 [==============================] - 7s 75ms/step - loss: 0.8515 - accuracy: 0.6708 - val_loss: 0.9798 - val_accuracy: 0.6543\n",
            "Epoch 8/14\n",
            "93/93 [==============================] - 6s 63ms/step - loss: 0.8313 - accuracy: 0.6807 - val_loss: 0.9423 - val_accuracy: 0.6657\n",
            "Epoch 9/14\n",
            "93/93 [==============================] - 7s 75ms/step - loss: 0.7958 - accuracy: 0.7047 - val_loss: 0.8105 - val_accuracy: 0.7114\n",
            "Epoch 10/14\n",
            "93/93 [==============================] - 6s 61ms/step - loss: 0.7782 - accuracy: 0.7058 - val_loss: 0.8018 - val_accuracy: 0.7114\n",
            "Epoch 11/14\n",
            "93/93 [==============================] - 7s 74ms/step - loss: 0.7212 - accuracy: 0.7278 - val_loss: 0.7815 - val_accuracy: 0.7229\n",
            "Epoch 12/14\n",
            "93/93 [==============================] - 8s 78ms/step - loss: 0.7091 - accuracy: 0.7369 - val_loss: 0.8343 - val_accuracy: 0.7171\n",
            "Epoch 13/14\n",
            "93/93 [==============================] - 7s 70ms/step - loss: 0.6864 - accuracy: 0.7424 - val_loss: 0.8677 - val_accuracy: 0.6971\n",
            "Epoch 14/14\n",
            "93/93 [==============================] - 7s 76ms/step - loss: 0.6765 - accuracy: 0.7492 - val_loss: 0.9449 - val_accuracy: 0.6829\n",
            "11/11 [==============================] - 1s 21ms/step - loss: 0.6957 - accuracy: 0.7343\n",
            "Test accuracy: 0.734\n"
          ]
        }
      ]
    },
    {
      "cell_type": "markdown",
      "metadata": {
        "id": "TFi85ID-Xa0y"
      },
      "source": [
        "# Leveraging a pretrained model"
      ]
    },
    {
      "cell_type": "markdown",
      "metadata": {
        "id": "yXHnnT43Xa0y"
      },
      "source": [
        "**Feature extraction with a pretrained model**\n",
        "\n",
        "Instantiating the VGG16 convolutional base"
      ]
    },
    {
      "cell_type": "code",
      "source": [
        "from tensorflow.keras.applications import VGG16\n",
        "from tensorflow.keras.models import Sequential\n",
        "from tensorflow.keras.layers import Dense, Flatten\n",
        "from tensorflow.keras.optimizers import RMSprop\n"
      ],
      "metadata": {
        "id": "xsIFFUervw9e"
      },
      "execution_count": null,
      "outputs": []
    },
    {
      "cell_type": "code",
      "source": [
        "base_model = VGG16(weights='imagenet', include_top=False, input_shape=(180, 180, 3))\n",
        "model = Sequential()\n",
        "model.add(base_model)\n",
        "model.add(Flatten())\n",
        "model.add(Dense(256, activation='relu'))\n",
        "model.add(Dense(5, activation='softmax'))\n",
        "model.compile(optimizer=RMSprop(learning_rate=0.0001), loss='sparse_categorical_crossentropy', metrics=['accuracy'])\n",
        "\n",
        "\n",
        "history = model.fit(train_dataset, epochs=14, validation_data=validation_dataset, callbacks=callbacks)\n"
      ],
      "metadata": {
        "id": "aWhyCHxvv6g1",
        "colab": {
          "base_uri": "https://localhost:8080/"
        },
        "outputId": "e55aaec1-f0f0-4837-9c71-d5b58c696884"
      },
      "execution_count": null,
      "outputs": [
        {
          "output_type": "stream",
          "name": "stdout",
          "text": [
            "Downloading data from https://storage.googleapis.com/tensorflow/keras-applications/vgg16/vgg16_weights_tf_dim_ordering_tf_kernels_notop.h5\n",
            "58889256/58889256 [==============================] - 2s 0us/step\n",
            "Epoch 1/14\n",
            "93/93 [==============================] - 46s 363ms/step - loss: 1.8681 - accuracy: 0.2359 - val_loss: 1.5958 - val_accuracy: 0.2286\n",
            "Epoch 2/14\n",
            "93/93 [==============================] - 28s 295ms/step - loss: 1.5509 - accuracy: 0.3159 - val_loss: 3.2787 - val_accuracy: 0.3229\n",
            "Epoch 3/14\n",
            "93/93 [==============================] - 29s 305ms/step - loss: 1.1306 - accuracy: 0.5603 - val_loss: 0.9533 - val_accuracy: 0.6429\n",
            "Epoch 4/14\n",
            "93/93 [==============================] - 29s 309ms/step - loss: 0.8926 - accuracy: 0.6634 - val_loss: 1.3633 - val_accuracy: 0.6057\n",
            "Epoch 5/14\n",
            "93/93 [==============================] - 28s 298ms/step - loss: 0.7233 - accuracy: 0.7444 - val_loss: 1.1746 - val_accuracy: 0.6971\n",
            "Epoch 6/14\n",
            "93/93 [==============================] - 30s 314ms/step - loss: 0.6034 - accuracy: 0.7942 - val_loss: 0.6175 - val_accuracy: 0.8029\n",
            "Epoch 7/14\n",
            "93/93 [==============================] - 29s 307ms/step - loss: 0.4700 - accuracy: 0.8373 - val_loss: 0.5308 - val_accuracy: 0.8171\n",
            "Epoch 8/14\n",
            "93/93 [==============================] - 28s 297ms/step - loss: 0.4276 - accuracy: 0.8512 - val_loss: 0.7820 - val_accuracy: 0.7857\n",
            "Epoch 9/14\n",
            "93/93 [==============================] - 28s 294ms/step - loss: 0.3506 - accuracy: 0.8868 - val_loss: 1.6628 - val_accuracy: 0.7257\n",
            "Epoch 10/14\n",
            "93/93 [==============================] - 28s 298ms/step - loss: 0.3382 - accuracy: 0.8932 - val_loss: 0.9729 - val_accuracy: 0.8029\n",
            "Epoch 11/14\n",
            "93/93 [==============================] - 28s 300ms/step - loss: 0.3621 - accuracy: 0.8980 - val_loss: 1.7629 - val_accuracy: 0.7029\n",
            "Epoch 12/14\n",
            "93/93 [==============================] - 28s 296ms/step - loss: 0.3091 - accuracy: 0.9041 - val_loss: 3.3563 - val_accuracy: 0.6371\n",
            "Epoch 13/14\n",
            "93/93 [==============================] - 29s 312ms/step - loss: 0.2767 - accuracy: 0.9264 - val_loss: 1.2509 - val_accuracy: 0.7143\n",
            "Epoch 14/14\n",
            "93/93 [==============================] - 28s 297ms/step - loss: 0.2442 - accuracy: 0.9342 - val_loss: 0.7671 - val_accuracy: 0.8086\n"
          ]
        }
      ]
    },
    {
      "cell_type": "code",
      "source": [
        "test_accuracy = model.evaluate(test_dataset)\n",
        "VGG16_model= ['VGG16_model',str(test_accuracy[1])]\n",
        "print(\"Test accuracy:\", test_accuracy[1])\n"
      ],
      "metadata": {
        "id": "EbeFhdyC3xhO",
        "colab": {
          "base_uri": "https://localhost:8080/"
        },
        "outputId": "0c62dbb8-e57d-4914-cc7a-c40c25840406"
      },
      "execution_count": null,
      "outputs": [
        {
          "output_type": "stream",
          "name": "stdout",
          "text": [
            "11/11 [==============================] - 1s 90ms/step - loss: 0.6780 - accuracy: 0.8286\n",
            "Test accuracy: 0.8285714387893677\n"
          ]
        }
      ]
    },
    {
      "cell_type": "markdown",
      "source": [
        "improve the model by add dropout and regularization"
      ],
      "metadata": {
        "id": "7E59ADK_59Ec"
      }
    },
    {
      "cell_type": "code",
      "source": [
        "from tensorflow.keras.regularizers import l2\n",
        "\n",
        "num_classes = 5\n",
        "\n",
        "# Input layer\n",
        "inputs = keras.Input(shape=(180, 180, 3))\n",
        "x = data_augmentation(inputs)\n",
        "# Data preprocessing layer (you can keep this as it is)\n",
        "x = layers.Rescaling(1./255)(inputs)\n",
        "\n",
        "# Convolutional layers with max pooling\n",
        "x = layers.Conv2D(filters=32, kernel_size=3, activation=\"relu\")(x)\n",
        "x = layers.MaxPooling2D(pool_size=2)(x)\n",
        "x = layers.Conv2D(filters=64, kernel_size=3, activation=\"relu\")(x)\n",
        "x = layers.MaxPooling2D(pool_size=2)(x)\n",
        "x = layers.Conv2D(filters=128, kernel_size=3, activation=\"relu\")(x)\n",
        "x = layers.MaxPooling2D(pool_size=2)(x)\n",
        "x = layers.Conv2D(filters=256, kernel_size=3, activation=\"relu\")(x)\n",
        "x = layers.MaxPooling2D(pool_size=2)(x)\n",
        "x = layers.Conv2D(filters=256, kernel_size=3, activation=\"relu\")(x)\n",
        "\n",
        "x = layers.Dropout(0.4)(x)\n",
        "\n",
        "x = layers.Flatten()(x)\n",
        "\n",
        "x = layers.Dense(256, activation='relu', kernel_regularizer=l2(0.01))(x)\n",
        "x = layers.Dense(128, activation='relu', kernel_regularizer=l2(0.01))(x)\n",
        "\n",
        "outputs = layers.Dense(num_classes, activation=\"softmax\")(x)\n",
        "model = keras.Model(inputs=inputs, outputs=outputs)\n",
        "model.compile(loss=\"sparse_categorical_crossentropy\",\n",
        "              optimizer=\"adam\",\n",
        "              metrics=[\"accuracy\"])\n",
        "\n",
        "\n",
        "callbacks = [\n",
        "    keras.callbacks.ModelCheckpoint(\n",
        "        filepath=\"Flower_identification_with_augmentation_dropout.keras\",\n",
        "        save_best_only=True,\n",
        "        monitor=\"val_loss\")\n",
        "]\n",
        "history = model.fit(\n",
        "    train_dataset,\n",
        "    epochs=20,\n",
        "    validation_data=validation_dataset,\n",
        "    callbacks=callbacks)\n",
        "\n"
      ],
      "metadata": {
        "id": "xEs8pTl75wNy",
        "colab": {
          "base_uri": "https://localhost:8080/"
        },
        "outputId": "02e2bf6c-2069-4a5f-a226-457730046ec1"
      },
      "execution_count": null,
      "outputs": [
        {
          "output_type": "stream",
          "name": "stdout",
          "text": [
            "Epoch 1/20\n",
            "93/93 [==============================] - 11s 82ms/step - loss: 2.7696 - accuracy: 0.3475 - val_loss: 1.9240 - val_accuracy: 0.3400\n",
            "Epoch 2/20\n",
            "93/93 [==============================] - 7s 69ms/step - loss: 1.3945 - accuracy: 0.5034 - val_loss: 1.4247 - val_accuracy: 0.4600\n",
            "Epoch 3/20\n",
            "93/93 [==============================] - 8s 83ms/step - loss: 1.2361 - accuracy: 0.5458 - val_loss: 1.2204 - val_accuracy: 0.5457\n",
            "Epoch 4/20\n",
            "93/93 [==============================] - 8s 81ms/step - loss: 1.1281 - accuracy: 0.5895 - val_loss: 1.0862 - val_accuracy: 0.5857\n",
            "Epoch 5/20\n",
            "93/93 [==============================] - 7s 71ms/step - loss: 1.0533 - accuracy: 0.6210 - val_loss: 1.0322 - val_accuracy: 0.6514\n",
            "Epoch 6/20\n",
            "93/93 [==============================] - 8s 80ms/step - loss: 0.9758 - accuracy: 0.6620 - val_loss: 1.0037 - val_accuracy: 0.6600\n",
            "Epoch 7/20\n",
            "93/93 [==============================] - 8s 84ms/step - loss: 0.9710 - accuracy: 0.6617 - val_loss: 1.1148 - val_accuracy: 0.6200\n",
            "Epoch 8/20\n",
            "93/93 [==============================] - 8s 78ms/step - loss: 0.9232 - accuracy: 0.6854 - val_loss: 0.9526 - val_accuracy: 0.6943\n",
            "Epoch 9/20\n",
            "93/93 [==============================] - 7s 73ms/step - loss: 0.8650 - accuracy: 0.7041 - val_loss: 0.9263 - val_accuracy: 0.6886\n",
            "Epoch 10/20\n",
            "93/93 [==============================] - 8s 86ms/step - loss: 0.8369 - accuracy: 0.7251 - val_loss: 0.9033 - val_accuracy: 0.6943\n",
            "Epoch 11/20\n",
            "93/93 [==============================] - 8s 83ms/step - loss: 0.8018 - accuracy: 0.7264 - val_loss: 0.8859 - val_accuracy: 0.7029\n",
            "Epoch 12/20\n",
            "93/93 [==============================] - 7s 70ms/step - loss: 0.7535 - accuracy: 0.7637 - val_loss: 1.0420 - val_accuracy: 0.6829\n",
            "Epoch 13/20\n",
            "93/93 [==============================] - 8s 83ms/step - loss: 0.6953 - accuracy: 0.7831 - val_loss: 0.8375 - val_accuracy: 0.7400\n",
            "Epoch 14/20\n",
            "93/93 [==============================] - 7s 76ms/step - loss: 0.6534 - accuracy: 0.8027 - val_loss: 0.8807 - val_accuracy: 0.7314\n",
            "Epoch 15/20\n",
            "93/93 [==============================] - 7s 71ms/step - loss: 0.6298 - accuracy: 0.7942 - val_loss: 0.8612 - val_accuracy: 0.7286\n",
            "Epoch 16/20\n",
            "93/93 [==============================] - 8s 81ms/step - loss: 0.5945 - accuracy: 0.8153 - val_loss: 0.8617 - val_accuracy: 0.7286\n",
            "Epoch 17/20\n",
            "93/93 [==============================] - 7s 71ms/step - loss: 0.5651 - accuracy: 0.8275 - val_loss: 0.9290 - val_accuracy: 0.7486\n",
            "Epoch 18/20\n",
            "93/93 [==============================] - 8s 84ms/step - loss: 0.5205 - accuracy: 0.8434 - val_loss: 0.8510 - val_accuracy: 0.7743\n",
            "Epoch 19/20\n",
            "93/93 [==============================] - 7s 77ms/step - loss: 0.5012 - accuracy: 0.8546 - val_loss: 0.9212 - val_accuracy: 0.7429\n",
            "Epoch 20/20\n",
            "93/93 [==============================] - 7s 68ms/step - loss: 0.4577 - accuracy: 0.8719 - val_loss: 1.1332 - val_accuracy: 0.7057\n"
          ]
        }
      ]
    },
    {
      "cell_type": "code",
      "source": [
        "import matplotlib.pyplot as plt\n",
        "accuracy = history.history[\"accuracy\"]\n",
        "val_accuracy = history.history[\"val_accuracy\"]\n",
        "loss = history.history[\"loss\"]\n",
        "val_loss = history.history[\"val_loss\"]\n",
        "epochs = range(1, len(accuracy) + 1)\n",
        "plt.plot(epochs, accuracy, \"bo\", label=\"Training accuracy\")\n",
        "plt.plot(epochs, val_accuracy, \"b\", label=\"Validation accuracy\")\n",
        "plt.title(\"Training and validation accuracy\")\n",
        "plt.legend()\n",
        "plt.figure()\n",
        "plt.plot(epochs, loss, \"bo\", label=\"Training loss\")\n",
        "plt.plot(epochs, val_loss, \"b\", label=\"Validation loss\")\n",
        "plt.title(\"Training and validation loss\")\n",
        "plt.legend()\n",
        "plt.show()"
      ],
      "metadata": {
        "id": "QBBdpFAF6avy",
        "colab": {
          "base_uri": "https://localhost:8080/",
          "height": 887
        },
        "outputId": "bbab6e0b-e219-4044-cd17-b72d5dd03483"
      },
      "execution_count": null,
      "outputs": [
        {
          "output_type": "display_data",
          "data": {
            "text/plain": [
              "<Figure size 640x480 with 1 Axes>"
            ],
            "image/png": "[encoded data removed]"
          },
          "metadata": {}
        },
        {
          "output_type": "display_data",
          "data": {
            "text/plain": [
              "<Figure size 640x480 with 1 Axes>"
            ],
            "image/png": "[encoded data removed]"
          },
          "metadata": {}
        }
      ]
    },
    {
      "cell_type": "markdown",
      "metadata": {
        "id": "GDoPoWK66avz"
      },
      "source": [
        "**evaluating the the new model**"
      ]
    },
    {
      "cell_type": "code",
      "execution_count": null,
      "metadata": {
        "id": "Ov4NTA4t6avz",
        "colab": {
          "base_uri": "https://localhost:8080/"
        },
        "outputId": "df06d205-6636-4194-addc-f75ab10ebad0"
      },
      "outputs": [
        {
          "output_type": "stream",
          "name": "stdout",
          "text": [
            "11/11 [==============================] - 1s 24ms/step - loss: 0.7992 - accuracy: 0.7429\n",
            "Test accuracy: 0.743\n"
          ]
        }
      ],
      "source": [
        "test_model = keras.models.load_model(\n",
        "    \"Flower_identification_with_augmentation_dropout.keras\")\n",
        "test_loss, test_acc = test_model.evaluate(test_dataset)\n",
        "regular_model= ['regular_model',str(test_acc)]\n",
        "print(f\"Test accuracy: {test_acc:.3f}\")\n"
      ]
    },
    {
      "cell_type": "code",
      "source": [
        "# regular_model= ['regular_model',0.831]"
      ],
      "metadata": {
        "id": "1tfJ7nlWvbGE"
      },
      "execution_count": null,
      "outputs": []
    },
    {
      "cell_type": "code",
      "source": [
        "from tensorflow.keras.preprocessing.image import ImageDataGenerator\n",
        "\n",
        "# Data augmentation\n",
        "datagen = ImageDataGenerator(\n",
        "    rotation_range=20,\n",
        "    width_shift_range=0.2,\n",
        "    height_shift_range=0.2,\n",
        "    shear_range=0.2,\n",
        "    zoom_range=0.2,\n",
        "    horizontal_flip=True,\n",
        "    fill_mode='nearest'\n",
        ")\n",
        "\n",
        "# Model architecture\n",
        "model = keras.Sequential([\n",
        "    keras.Input(shape=(180, 180, 3)),\n",
        "    layers.Rescaling(1./255),\n",
        "    layers.Conv2D(32, (3, 3), activation='relu'),\n",
        "    layers.MaxPooling2D(2, 2),\n",
        "    layers.Conv2D(64, (3, 3), activation='relu'),\n",
        "    layers.MaxPooling2D(2, 2),\n",
        "    layers.Conv2D(128, (3, 3), activation='relu'),\n",
        "    layers.MaxPooling2D(2, 2),\n",
        "    layers.Flatten(),\n",
        "    layers.Dense(256, activation='relu'),\n",
        "    layers.Dropout(0.5),  # Dropout layer to reduce overfitting\n",
        "    layers.Dense(num_classes, activation='softmax')\n",
        "])\n",
        "\n",
        "# Compile the model\n",
        "model.compile(optimizer='adam',\n",
        "              loss='sparse_categorical_crossentropy',\n",
        "              metrics=['accuracy'])\n",
        "\n",
        "# Data augmentation flow for training dataset\n",
        "train_datagen = datagen.flow_from_directory(\n",
        "    'flowers_new_split/train',\n",
        "    target_size=(180, 180),\n",
        "    batch_size=32,\n",
        "    class_mode='sparse'\n",
        ")\n",
        "\n",
        "# Validation dataset\n",
        "validation_dataset = image_dataset_from_directory(\n",
        "    'flowers_new_split/validation',\n",
        "    image_size=(180, 180),\n",
        "    batch_size=32\n",
        ")\n",
        "callbacks = [\n",
        "    keras.callbacks.ModelCheckpoint(\n",
        "        filepath=\"Flower_identification_with_augmentation_new_dropout.keras\",\n",
        "        save_best_only=True,\n",
        "        monitor=\"val_loss\")\n",
        "]\n",
        "# Train the model with data augmentation\n",
        "history = model.fit(\n",
        "    train_datagen,\n",
        "    epochs=30,\n",
        "    validation_data=validation_dataset,\n",
        "    callbacks=callbacks\n",
        ")\n"
      ],
      "metadata": {
        "id": "e1i6BaTg890P",
        "colab": {
          "base_uri": "https://localhost:8080/"
        },
        "outputId": "68d9e200-759b-41ca-d8ff-744497cf217e"
      },
      "execution_count": null,
      "outputs": [
        {
          "output_type": "stream",
          "name": "stdout",
          "text": [
            "Found 2950 images belonging to 5 classes.\n",
            "Found 350 files belonging to 5 classes.\n",
            "Epoch 1/30\n",
            "93/93 [==============================] - 30s 300ms/step - loss: 1.4513 - accuracy: 0.3803 - val_loss: 1.2255 - val_accuracy: 0.4486\n",
            "Epoch 2/30\n",
            "93/93 [==============================] - 28s 300ms/step - loss: 1.1826 - accuracy: 0.5244 - val_loss: 1.1120 - val_accuracy: 0.5429\n",
            "Epoch 3/30\n",
            "93/93 [==============================] - 28s 305ms/step - loss: 1.1063 - accuracy: 0.5593 - val_loss: 1.0367 - val_accuracy: 0.5743\n",
            "Epoch 4/30\n",
            "93/93 [==============================] - 29s 308ms/step - loss: 1.0261 - accuracy: 0.5976 - val_loss: 0.9668 - val_accuracy: 0.6086\n",
            "Epoch 5/30\n",
            "93/93 [==============================] - 29s 304ms/step - loss: 0.9794 - accuracy: 0.6186 - val_loss: 0.9179 - val_accuracy: 0.6314\n",
            "Epoch 6/30\n",
            "93/93 [==============================] - 28s 300ms/step - loss: 0.9386 - accuracy: 0.6383 - val_loss: 0.9025 - val_accuracy: 0.6514\n",
            "Epoch 7/30\n",
            "93/93 [==============================] - 27s 292ms/step - loss: 0.8891 - accuracy: 0.6563 - val_loss: 0.8045 - val_accuracy: 0.6857\n",
            "Epoch 8/30\n",
            "93/93 [==============================] - 28s 297ms/step - loss: 0.8528 - accuracy: 0.6732 - val_loss: 0.8198 - val_accuracy: 0.6800\n",
            "Epoch 9/30\n",
            "93/93 [==============================] - 27s 289ms/step - loss: 0.8699 - accuracy: 0.6637 - val_loss: 0.8480 - val_accuracy: 0.6800\n",
            "Epoch 10/30\n",
            "93/93 [==============================] - 30s 327ms/step - loss: 0.8529 - accuracy: 0.6675 - val_loss: 0.7688 - val_accuracy: 0.7200\n",
            "Epoch 11/30\n",
            "93/93 [==============================] - 27s 291ms/step - loss: 0.8012 - accuracy: 0.6953 - val_loss: 0.7749 - val_accuracy: 0.7143\n",
            "Epoch 12/30\n",
            "93/93 [==============================] - 28s 297ms/step - loss: 0.7690 - accuracy: 0.7024 - val_loss: 0.7352 - val_accuracy: 0.7114\n",
            "Epoch 13/30\n",
            "93/93 [==============================] - 28s 296ms/step - loss: 0.7553 - accuracy: 0.7146 - val_loss: 0.7298 - val_accuracy: 0.7086\n",
            "Epoch 14/30\n",
            "93/93 [==============================] - 27s 295ms/step - loss: 0.7582 - accuracy: 0.7027 - val_loss: 0.6688 - val_accuracy: 0.7571\n",
            "Epoch 15/30\n",
            "93/93 [==============================] - 28s 302ms/step - loss: 0.7453 - accuracy: 0.7149 - val_loss: 0.6949 - val_accuracy: 0.7600\n",
            "Epoch 16/30\n",
            "93/93 [==============================] - 28s 300ms/step - loss: 0.7253 - accuracy: 0.7224 - val_loss: 0.7282 - val_accuracy: 0.7543\n",
            "Epoch 17/30\n",
            "93/93 [==============================] - 28s 304ms/step - loss: 0.7091 - accuracy: 0.7339 - val_loss: 0.6392 - val_accuracy: 0.7629\n",
            "Epoch 18/30\n",
            "93/93 [==============================] - 27s 292ms/step - loss: 0.7019 - accuracy: 0.7281 - val_loss: 0.6519 - val_accuracy: 0.7486\n",
            "Epoch 19/30\n",
            "93/93 [==============================] - 29s 316ms/step - loss: 0.6764 - accuracy: 0.7532 - val_loss: 0.6640 - val_accuracy: 0.7629\n",
            "Epoch 20/30\n",
            "93/93 [==============================] - 27s 289ms/step - loss: 0.6718 - accuracy: 0.7481 - val_loss: 0.6953 - val_accuracy: 0.7429\n",
            "Epoch 21/30\n",
            "93/93 [==============================] - 28s 297ms/step - loss: 0.6479 - accuracy: 0.7492 - val_loss: 0.6651 - val_accuracy: 0.7600\n",
            "Epoch 22/30\n",
            "93/93 [==============================] - 27s 287ms/step - loss: 0.6732 - accuracy: 0.7532 - val_loss: 0.7067 - val_accuracy: 0.7457\n",
            "Epoch 23/30\n",
            "93/93 [==============================] - 28s 300ms/step - loss: 0.6486 - accuracy: 0.7647 - val_loss: 0.6278 - val_accuracy: 0.7914\n",
            "Epoch 24/30\n",
            "93/93 [==============================] - 28s 301ms/step - loss: 0.6259 - accuracy: 0.7569 - val_loss: 0.6260 - val_accuracy: 0.7686\n",
            "Epoch 25/30\n",
            "93/93 [==============================] - 28s 301ms/step - loss: 0.6060 - accuracy: 0.7661 - val_loss: 0.6133 - val_accuracy: 0.7571\n",
            "Epoch 26/30\n",
            "93/93 [==============================] - 27s 289ms/step - loss: 0.6034 - accuracy: 0.7753 - val_loss: 0.6594 - val_accuracy: 0.7543\n",
            "Epoch 27/30\n",
            "93/93 [==============================] - 28s 297ms/step - loss: 0.6082 - accuracy: 0.7783 - val_loss: 0.6110 - val_accuracy: 0.7886\n",
            "Epoch 28/30\n",
            "93/93 [==============================] - 28s 297ms/step - loss: 0.5955 - accuracy: 0.7817 - val_loss: 0.6462 - val_accuracy: 0.7486\n",
            "Epoch 29/30\n",
            "93/93 [==============================] - 27s 286ms/step - loss: 0.5802 - accuracy: 0.7810 - val_loss: 0.6473 - val_accuracy: 0.7771\n",
            "Epoch 30/30\n",
            "93/93 [==============================] - 28s 297ms/step - loss: 0.5905 - accuracy: 0.7786 - val_loss: 0.5706 - val_accuracy: 0.8171\n"
          ]
        }
      ]
    },
    {
      "cell_type": "code",
      "source": [
        "test_model = keras.models.load_model(\n",
        "    \"Flower_identification_with_augmentation_new_dropout.keras\")\n",
        "test_loss, test_acc = test_model.evaluate(test_dataset)\n",
        "aug_new_model= [\"aug_new_model\",str(test_acc)]\n",
        "print(f\"Test accuracy: {test_acc:.3f}\")\n"
      ],
      "metadata": {
        "id": "oJJCRBjgBTlI",
        "colab": {
          "base_uri": "https://localhost:8080/"
        },
        "outputId": "54306485-4d2e-47df-c3bc-1e72ad704d5a"
      },
      "execution_count": null,
      "outputs": [
        {
          "output_type": "stream",
          "name": "stdout",
          "text": [
            "11/11 [==============================] - 1s 23ms/step - loss: 0.6096 - accuracy: 0.7743\n",
            "Test accuracy: 0.774\n"
          ]
        }
      ]
    },
    {
      "cell_type": "code",
      "source": [],
      "metadata": {
        "id": "_yyP5mwp-K3h"
      },
      "execution_count": null,
      "outputs": []
    },
    {
      "cell_type": "code",
      "source": [
        "callbacks = [\n",
        "    keras.callbacks.ModelCheckpoint(\n",
        "        filepath=\"Flower_identification_with_augmentation_dropout.keras\",\n",
        "        save_best_only=True,\n",
        "        monitor=\"val_loss\")\n",
        "\n",
        "base_model = VGG16(weights='imagenet', include_top=False, input_shape=(180, 180, 3))\n",
        "model = Sequential()\n",
        "model.add(base_model)\n",
        "model.add(Flatten())\n",
        "model.add(Dense(256, activation='relu'))\n",
        "model.add(Dense(5, activation='softmax'))  # Adjust the output layer units according to your number of flower classes (5 in this case)\n",
        "model.compile(optimizer=RMSprop(learning_rate=0.0001), loss='sparse_categorical_crossentropy', metrics=['accuracy'])\n",
        "\n",
        "\n",
        "history = model.fit(train_dataset, epochs=14, validation_data=validation_dataset, callbacks=callbacks)"
      ],
      "metadata": {
        "id": "ogM0Ez0Ibs6D",
        "colab": {
          "base_uri": "https://localhost:8080/"
        },
        "outputId": "c8db1de5-3d32-430c-cb6c-3c2b4df59cb8"
      },
      "execution_count": null,
      "outputs": [
        {
          "output_type": "stream",
          "name": "stdout",
          "text": [
            "Epoch 1/14\n",
            "93/93 [==============================] - 33s 304ms/step - loss: 1.8570 - accuracy: 0.2820 - val_loss: 1.3505 - val_accuracy: 0.3829\n",
            "Epoch 2/14\n",
            "93/93 [==============================] - 28s 296ms/step - loss: 1.2740 - accuracy: 0.5207 - val_loss: 1.0393 - val_accuracy: 0.5914\n",
            "Epoch 3/14\n",
            "93/93 [==============================] - 29s 307ms/step - loss: 0.9604 - accuracy: 0.6356 - val_loss: 1.0373 - val_accuracy: 0.6429\n",
            "Epoch 4/14\n",
            "93/93 [==============================] - 28s 296ms/step - loss: 0.7855 - accuracy: 0.7132 - val_loss: 1.0653 - val_accuracy: 0.6400\n",
            "Epoch 5/14\n",
            "93/93 [==============================] - 28s 296ms/step - loss: 0.7352 - accuracy: 0.7420 - val_loss: 1.3023 - val_accuracy: 0.5857\n",
            "Epoch 6/14\n",
            "93/93 [==============================] - 28s 295ms/step - loss: 0.6527 - accuracy: 0.7803 - val_loss: 0.6250 - val_accuracy: 0.7600\n",
            "Epoch 7/14\n",
            "93/93 [==============================] - 28s 295ms/step - loss: 0.5657 - accuracy: 0.8132 - val_loss: 0.8688 - val_accuracy: 0.7314\n",
            "Epoch 8/14\n",
            "93/93 [==============================] - 28s 299ms/step - loss: 0.5022 - accuracy: 0.8271 - val_loss: 2.2974 - val_accuracy: 0.4971\n",
            "Epoch 9/14\n",
            "93/93 [==============================] - 28s 293ms/step - loss: 0.4679 - accuracy: 0.8566 - val_loss: 0.8737 - val_accuracy: 0.7629\n",
            "Epoch 10/14\n",
            "93/93 [==============================] - 29s 309ms/step - loss: 0.4119 - accuracy: 0.8708 - val_loss: 0.9893 - val_accuracy: 0.7600\n",
            "Epoch 11/14\n",
            "93/93 [==============================] - 28s 296ms/step - loss: 0.3575 - accuracy: 0.8841 - val_loss: 1.2674 - val_accuracy: 0.7371\n",
            "Epoch 12/14\n",
            "93/93 [==============================] - 28s 296ms/step - loss: 0.3320 - accuracy: 0.8953 - val_loss: 1.1477 - val_accuracy: 0.7000\n",
            "Epoch 13/14\n",
            "93/93 [==============================] - 28s 293ms/step - loss: 0.3805 - accuracy: 0.9037 - val_loss: 0.9155 - val_accuracy: 0.7943\n",
            "Epoch 14/14\n",
            "93/93 [==============================] - 28s 299ms/step - loss: 0.3481 - accuracy: 0.9085 - val_loss: 0.8015 - val_accuracy: 0.8029\n"
          ]
        }
      ]
    },
    {
      "cell_type": "code",
      "source": [
        "test_model = keras.models.load_model(\n",
        "    \"Flower_identification_with_augmentation_dropout.keras\")\n",
        "test_loss, test_acc = test_model.evaluate(test_dataset)\n",
        "VGG16_new_model= [\"VGG16_new_model \",str(test_acc)]\n",
        "print(f\"Test accuracy: {test_acc:.3f}\")\n"
      ],
      "metadata": {
        "id": "Ax3Aa40kbv4t",
        "colab": {
          "base_uri": "https://localhost:8080/"
        },
        "outputId": "8ae27fde-1b50-4961-f7eb-1173686dd32e"
      },
      "execution_count": null,
      "outputs": [
        {
          "output_type": "stream",
          "name": "stdout",
          "text": [
            "11/11 [==============================] - 1s 23ms/step - loss: 0.7992 - accuracy: 0.7429\n",
            "Test accuracy: 0.743\n"
          ]
        }
      ]
    },
    {
      "cell_type": "markdown",
      "source": [
        "Inserting all the accuracy results of the model into the array and displaying the improvement on a graph"
      ],
      "metadata": {
        "id": "9GZGPh1iIkRh"
      }
    },
    {
      "cell_type": "code",
      "source": [
        "model_result= [basic_model1,basic_model2,  augm_model  ,augm_model_adam, regular_model, aug_new_model, VGG16_model]\n",
        "for model in model_result:\n",
        "  print(model)"
      ],
      "metadata": {
        "id": "c5mHm_l_9mNR",
        "colab": {
          "base_uri": "https://localhost:8080/"
        },
        "outputId": "d3c5d9ec-5050-4d09-d6f6-94b6120feb6c"
      },
      "execution_count": null,
      "outputs": [
        {
          "output_type": "stream",
          "name": "stdout",
          "text": [
            "['basic_model_rmsprop', '0.6742857098579407']\n",
            "['basic_model_adam', '0.6857143044471741']\n",
            "['augm_model', '0.7257142663002014']\n",
            "['augm_model_adam', '0.7342857122421265']\n",
            "['regular_model', '0.7428571581840515']\n",
            "['aug_new_model', '0.7742857336997986']\n",
            "['VGG16_model', 0.802]\n"
          ]
        }
      ]
    },
    {
      "cell_type": "code",
      "source": [
        "# model_result= [['basic_model_rmsprop', '0.6742857098579407'],\n",
        "# ['basic_model_adam', '0.6857143044471741'],\n",
        "# ['augm_model', '0.7257142663002014'],\n",
        "# ['augm_model_adam', '0.7342857122421265'],\n",
        "# ['regular_model', '0.7428571581840515'],\n",
        "# ['aug_new_model', '0.7742857336997986'],\n",
        "# ['VGG16_model', '0.828']]"
      ],
      "metadata": {
        "id": "sF4V5fiNGcbM"
      },
      "execution_count": null,
      "outputs": []
    },
    {
      "cell_type": "code",
      "source": [
        "import matplotlib.pyplot as plt\n",
        "\n",
        "model_names = []\n",
        "values = []\n",
        "\n",
        "for entry in model_result:\n",
        "    model_names.append(entry[0])\n",
        "    values.append(float(entry[1]))\n",
        "\n",
        "fig, ax = plt.subplots()\n",
        "\n",
        "ax.plot(model_names, values, marker='o', linestyle='-')\n",
        "ax.set_xlabel('Model Names')\n",
        "ax.set_ylabel('Values')\n",
        "ax.set_title('Rise in Values for Different Models')\n",
        "\n",
        "plt.xticks(rotation=45) # Rotate x-axis labels for readability\n",
        "plt.grid(True)\n",
        "plt.tight_layout()\n",
        "plt.show()"
      ],
      "metadata": {
        "id": "49FSkr17LTED",
        "colab": {
          "base_uri": "https://localhost:8080/",
          "height": 487
        },
        "outputId": "d2665891-d205-42f3-c944-274e8a4b7c7a"
      },
      "execution_count": null,
      "outputs": [
        {
          "output_type": "display_data",
          "data": {
            "text/plain": [
              "<Figure size 640x480 with 1 Axes>"
            ],
            "image/png": "[encoded data removed]"
          },
          "metadata": {}
        }
      ]
    }
  ]
}